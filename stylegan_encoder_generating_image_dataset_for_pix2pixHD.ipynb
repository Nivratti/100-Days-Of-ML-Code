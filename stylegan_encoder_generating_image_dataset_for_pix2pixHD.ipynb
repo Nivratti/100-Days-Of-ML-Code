{
  "nbformat": 4,
  "nbformat_minor": 0,
  "metadata": {
    "colab": {
      "name": "stylegan-encoder--generating-image-dataset-for-pix2pixHD.ipynb",
      "provenance": [],
      "collapsed_sections": [],
      "authorship_tag": "ABX9TyNy/cxKqJHMpBC6ukA9+d7Y",
      "include_colab_link": true
    },
    "kernelspec": {
      "name": "python3",
      "display_name": "Python 3"
    },
    "accelerator": "GPU"
  },
  "cells": [
    {
      "cell_type": "markdown",
      "metadata": {
        "id": "view-in-github",
        "colab_type": "text"
      },
      "source": [
        "<a href=\"https://colab.research.google.com/github/Nivratti/100-Days-Of-ML-Code/blob/master/stylegan_encoder_generating_image_dataset_for_pix2pixHD.ipynb\" target=\"_parent\"><img src=\"https://colab.research.google.com/assets/colab-badge.svg\" alt=\"Open In Colab\"/></a>"
      ]
    },
    {
      "cell_type": "code",
      "metadata": {
        "colab": {
          "base_uri": "https://localhost:8080/"
        },
        "id": "ehQOalqi9HMY",
        "outputId": "d6bcb126-5860-49f5-fda9-ab13b085b240"
      },
      "source": [
        "!nvidia-smi"
      ],
      "execution_count": 1,
      "outputs": [
        {
          "output_type": "stream",
          "text": [
            "Sat Dec 19 15:35:19 2020       \n",
            "+-----------------------------------------------------------------------------+\n",
            "| NVIDIA-SMI 455.45.01    Driver Version: 418.67       CUDA Version: 10.1     |\n",
            "|-------------------------------+----------------------+----------------------+\n",
            "| GPU  Name        Persistence-M| Bus-Id        Disp.A | Volatile Uncorr. ECC |\n",
            "| Fan  Temp  Perf  Pwr:Usage/Cap|         Memory-Usage | GPU-Util  Compute M. |\n",
            "|                               |                      |               MIG M. |\n",
            "|===============================+======================+======================|\n",
            "|   0  Tesla P100-PCIE...  Off  | 00000000:00:04.0 Off |                    0 |\n",
            "| N/A   34C    P0    26W / 250W |      0MiB / 16280MiB |      0%      Default |\n",
            "|                               |                      |                 ERR! |\n",
            "+-------------------------------+----------------------+----------------------+\n",
            "                                                                               \n",
            "+-----------------------------------------------------------------------------+\n",
            "| Processes:                                                                  |\n",
            "|  GPU   GI   CI        PID   Type   Process name                  GPU Memory |\n",
            "|        ID   ID                                                   Usage      |\n",
            "|=============================================================================|\n",
            "|  No running processes found                                                 |\n",
            "+-----------------------------------------------------------------------------+\n"
          ],
          "name": "stdout"
        }
      ]
    },
    {
      "cell_type": "code",
      "metadata": {
        "colab": {
          "base_uri": "https://localhost:8080/"
        },
        "id": "UXBbRJngR0La",
        "outputId": "b78616ad-0422-4754-b9ec-19bf4b4e98b1"
      },
      "source": [
        "%tensorflow_version 1.x"
      ],
      "execution_count": 2,
      "outputs": [
        {
          "output_type": "stream",
          "text": [
            "TensorFlow 1.x selected.\n"
          ],
          "name": "stdout"
        }
      ]
    },
    {
      "cell_type": "code",
      "metadata": {
        "colab": {
          "base_uri": "https://localhost:8080/"
        },
        "id": "CgOAJNPFRm4f",
        "outputId": "7cc38b0f-c543-4a0b-8251-54690b0acd18"
      },
      "source": [
        "!git clone https://github.com/Nivratti/stylegan2encoder.git"
      ],
      "execution_count": 3,
      "outputs": [
        {
          "output_type": "stream",
          "text": [
            "Cloning into 'stylegan2encoder'...\n",
            "remote: Enumerating objects: 8, done.\u001b[K\n",
            "remote: Counting objects: 100% (8/8), done.\u001b[K\n",
            "remote: Compressing objects: 100% (7/7), done.\u001b[K\n",
            "remote: Total 316 (delta 3), reused 5 (delta 1), pack-reused 308\u001b[K\n",
            "Receiving objects: 100% (316/316), 8.99 MiB | 4.15 MiB/s, done.\n",
            "Resolving deltas: 100% (112/112), done.\n"
          ],
          "name": "stdout"
        }
      ]
    },
    {
      "cell_type": "code",
      "metadata": {
        "colab": {
          "base_uri": "https://localhost:8080/"
        },
        "id": "z60CcZQOR2qU",
        "outputId": "ee950e3a-7bb7-452d-d007-8200bb21ce65"
      },
      "source": [
        "%cd \"/content/stylegan2encoder\""
      ],
      "execution_count": 14,
      "outputs": [
        {
          "output_type": "stream",
          "text": [
            "/content/stylegan2encoder\n"
          ],
          "name": "stdout"
        }
      ]
    },
    {
      "cell_type": "markdown",
      "metadata": {
        "id": "w57U4MVcSEXw"
      },
      "source": [
        "## Generate images"
      ]
    },
    {
      "cell_type": "code",
      "metadata": {
        "id": "x2jeAHowSGc4"
      },
      "source": [
        "## Info\r\n",
        "# # truncation-psi -- affectes face generation\r\n",
        "# #  1) truncation-psi above 0.5 creates more dark and little red colored faces and below 0.5 creates yello and white faces\r\n",
        "# #  2) truncation-psi near 1 generates eye glasses  and truncation-psi near 0 reduces glass level.\r\n",
        "\r\n",
        "# !python run_generator.py generate-images --network=gdrive:networks/stylegan2-ffhq-config-f.pkl \\\r\n",
        "#   --seeds=6600-6625 --truncation-psi=0.5"
      ],
      "execution_count": 20,
      "outputs": []
    },
    {
      "cell_type": "code",
      "metadata": {
        "id": "TrzwNvZZpMVd"
      },
      "source": [
        "# !python run_generator.py generate-images-custom --network=gdrive:networks/stylegan2-ffhq-config-f.pkl \\\r\n",
        "#     --truncation-psi=0.7 \\\r\n",
        "#     --num 50 \\\r\n",
        "#     --result-dir generated_ffhq_smile  \\\r\n",
        "#     --direction_path latent_directions/smile.npy \\\r\n",
        "#     --coeff 1.5"
      ],
      "execution_count": null,
      "outputs": []
    },
    {
      "cell_type": "code",
      "metadata": {
        "colab": {
          "base_uri": "https://localhost:8080/"
        },
        "id": "egrvQK29tItk",
        "outputId": "7ad93f13-4ebd-480e-aded-e2167a19fb43"
      },
      "source": [
        "## latent directions info\r\n",
        "## manipulate face\r\n",
        "## 1) default encoder latents -- \r\n",
        "## 2) downloaded from twitter -- stored in tw folder\r\n",
        "\r\n",
        "!python run_generator.py generate-images-custom --network=gdrive:networks/stylegan2-ffhq-config-f.pkl \\\r\n",
        "    --truncation-psi=0.5 \\\r\n",
        "    --num 50 \\\r\n",
        "    --result-dir generated_ffhq_age  \\\r\n",
        "    --direction_path latent_directions/tw/age.npy \\\r\n",
        "    --coeff 6.5"
      ],
      "execution_count": 19,
      "outputs": [
        {
          "output_type": "stream",
          "text": [
            "Local submit - run_dir: generated_ffhq_age/00000-generate-images-custom\n",
            "dnnlib: Running run_generator.generate_images_custom() on localhost...\n",
            "Loading networks from \"gdrive:networks/stylegan2-ffhq-config-f.pkl\"...\n",
            "Setting up TensorFlow plugin \"fused_bias_act.cu\": Preprocessing... Loading... Done.\n",
            "Setting up TensorFlow plugin \"upfirdn_2d.cu\": Preprocessing... Loading... Done.\n",
            "100%|##########| 6/6 [01:25<00:00, 14.18s/it]\n",
            "dnnlib: Finished run_generator.generate_images_custom() in 1m 35s.\n"
          ],
          "name": "stdout"
        }
      ]
    },
    {
      "cell_type": "markdown",
      "metadata": {
        "id": "9ACE0A2UWG6P"
      },
      "source": [
        "### Transform data in pix2pixHD format"
      ]
    },
    {
      "cell_type": "code",
      "metadata": {
        "id": "p8Bkwl31WI6a"
      },
      "source": [
        "import shutil\r\n",
        "from tqdm import tqdm\r\n",
        "from pathlib import Path\r\n",
        "import matplotlib.pyplot as plt\r\n",
        "%matplotlib inline"
      ],
      "execution_count": null,
      "outputs": []
    },
    {
      "cell_type": "code",
      "metadata": {
        "id": "19ZM7Sp-WQ1o"
      },
      "source": [
        "generated_dataset_path = Path('generated_ffhq_smile/images')\r\n",
        "new_dataset_path = Path('ffhq_smile_pix2pixHD')"
      ],
      "execution_count": null,
      "outputs": []
    },
    {
      "cell_type": "code",
      "metadata": {
        "id": "i29aqttfWUUV"
      },
      "source": [
        "train_A_path = new_dataset_path / 'train_A'\r\n",
        "train_B_path = new_dataset_path / 'train_B'\r\n",
        "train_C_path = new_dataset_path / 'train_C'\r\n",
        "\r\n",
        "train_A_path.mkdir(parents=True, exist_ok=True)\r\n",
        "train_B_path.mkdir(parents=True, exist_ok=True)\r\n",
        "train_C_path.mkdir(parents=True, exist_ok=True)"
      ],
      "execution_count": null,
      "outputs": []
    },
    {
      "cell_type": "code",
      "metadata": {
        "id": "NrLCfnllWW5w"
      },
      "source": [
        "all_paths = list(generated_dataset_path.iterdir())"
      ],
      "execution_count": null,
      "outputs": []
    },
    {
      "cell_type": "code",
      "metadata": {
        "id": "tU5EtcmgWYTw"
      },
      "source": [
        "source_paths = [p for p in all_paths if 'tr' not in str(p)]\r\n",
        "neg_paths = [p for p in all_paths if 'tr' in str(p) and '-' in str(p)]\r\n",
        "pos_paths = [p for p in all_paths if 'tr' in str(p) and '-' not in str(p)]"
      ],
      "execution_count": null,
      "outputs": []
    },
    {
      "cell_type": "code",
      "metadata": {
        "colab": {
          "base_uri": "https://localhost:8080/"
        },
        "id": "LzbTwS7jWd1b",
        "outputId": "290a0ab0-b386-45cf-e774-85ea97225cc4"
      },
      "source": [
        "len(source_paths), len(neg_paths), len(pos_paths)"
      ],
      "execution_count": null,
      "outputs": [
        {
          "output_type": "execute_result",
          "data": {
            "text/plain": [
              "(544, 544, 544)"
            ]
          },
          "metadata": {
            "tags": []
          },
          "execution_count": 13
        }
      ]
    },
    {
      "cell_type": "code",
      "metadata": {
        "colab": {
          "base_uri": "https://localhost:8080/"
        },
        "id": "CxuNs7ROW1X6",
        "outputId": "92678678-e0fd-4e2b-aaa6-a3dc8d4caa16"
      },
      "source": [
        "for i, (source, neg, pos) in tqdm(enumerate(zip(sorted(source_paths, key=lambda x: x.name.split('.')[0] + '_'),\r\n",
        "                                                sorted(neg_paths), sorted(pos_paths)))):\r\n",
        "    shutil.copy(source, train_A_path / f'{i}.png')\r\n",
        "    shutil.copy(pos, train_B_path / f'{i}.png')\r\n",
        "    shutil.copy(neg, train_C_path / f'{i}.png')"
      ],
      "execution_count": null,
      "outputs": [
        {
          "output_type": "stream",
          "text": [
            "544it [00:13, 39.46it/s]\n"
          ],
          "name": "stderr"
        }
      ]
    }
  ]
}