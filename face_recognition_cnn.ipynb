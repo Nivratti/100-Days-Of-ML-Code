{
  "nbformat": 4,
  "nbformat_minor": 0,
  "metadata": {
    "colab": {
      "name": "face-recognition-cnn",
      "provenance": [],
      "collapsed_sections": [
        "rtQBt6g5QLfB"
      ],
      "include_colab_link": true
    },
    "kernelspec": {
      "name": "python3",
      "display_name": "Python 3"
    },
    "accelerator": "GPU"
  },
  "cells": [
    {
      "cell_type": "markdown",
      "metadata": {
        "id": "view-in-github",
        "colab_type": "text"
      },
      "source": [
        "<a href=\"https://colab.research.google.com/github/Nivratti/100-Days-Of-ML-Code/blob/master/face_recognition_cnn.ipynb\" target=\"_parent\"><img src=\"https://colab.research.google.com/assets/colab-badge.svg\" alt=\"Open In Colab\"/></a>"
      ]
    },
    {
      "cell_type": "markdown",
      "metadata": {
        "id": "D-ap3LcMwPfl",
        "colab_type": "text"
      },
      "source": [
        "# Face Recognition System Using FaceNet in Keras\n",
        "---\n",
        "\n",
        "\n",
        "1.   extract multiple faces from image\n",
        "2.   Separate files for train and test faces dataset\n",
        "3.   CNN classifier\n",
        "\n",
        "\n"
      ]
    },
    {
      "cell_type": "markdown",
      "metadata": {
        "id": "X3ZaHZJXJf0V",
        "colab_type": "text"
      },
      "source": [
        "## **Connect Google Colab with Google Drive**\n",
        "\n",
        "---\n",
        "\n"
      ]
    },
    {
      "cell_type": "code",
      "metadata": {
        "id": "ZaV6bJAbJni4",
        "colab_type": "code",
        "colab": {}
      },
      "source": [
        "from google.colab import drive"
      ],
      "execution_count": 0,
      "outputs": []
    },
    {
      "cell_type": "code",
      "metadata": {
        "id": "FtDwce9ZJ26Y",
        "colab_type": "code",
        "outputId": "7a1cf094-6da2-4c4c-9a58-edcc3f676887",
        "colab": {
          "base_uri": "https://localhost:8080/",
          "height": 127
        }
      },
      "source": [
        "drive.mount('/content/gdrive')"
      ],
      "execution_count": 4,
      "outputs": [
        {
          "output_type": "stream",
          "text": [
            "Go to this URL in a browser: https://accounts.google.com/o/oauth2/auth?client_id=947318989803-6bn6qk8qdgf4n4g3pfee6491hc0brc4i.apps.googleusercontent.com&redirect_uri=urn%3aietf%3awg%3aoauth%3a2.0%3aoob&response_type=code&scope=email%20https%3a%2f%2fwww.googleapis.com%2fauth%2fdocs.test%20https%3a%2f%2fwww.googleapis.com%2fauth%2fdrive%20https%3a%2f%2fwww.googleapis.com%2fauth%2fdrive.photos.readonly%20https%3a%2f%2fwww.googleapis.com%2fauth%2fpeopleapi.readonly\n",
            "\n",
            "Enter your authorization code:\n",
            "··········\n",
            "Mounted at /content/gdrive\n"
          ],
          "name": "stdout"
        }
      ]
    },
    {
      "cell_type": "code",
      "metadata": {
        "id": "DBFdtb8HJum4",
        "colab_type": "code",
        "outputId": "bb079e93-5fcf-4d2d-d6fe-0af4f2e8dc93",
        "colab": {
          "base_uri": "https://localhost:8080/",
          "height": 35
        }
      },
      "source": [
        "!ls \"/content/gdrive/My Drive/deep_learning/mtcnn_face_recognition\""
      ],
      "execution_count": 5,
      "outputs": [
        {
          "output_type": "stream",
          "text": [
            "5-celebrity-faces-dataset  facenet_keras.h5  img  output\n"
          ],
          "name": "stdout"
        }
      ]
    },
    {
      "cell_type": "markdown",
      "metadata": {
        "id": "ruT9EwsNj6DD",
        "colab_type": "text"
      },
      "source": [
        "##  Tensorflow with GPU"
      ]
    },
    {
      "cell_type": "markdown",
      "metadata": {
        "id": "IW_pd9XhkF8b",
        "colab_type": "text"
      },
      "source": [
        "## Enabling and testing the GPU\n",
        "\n",
        "First, you'll need to enable GPUs for the notebook:\n",
        "\n",
        "- Navigate to Edit→Notebook Settings\n",
        "- select GPU from the Hardware Accelerator drop-down\n",
        "\n",
        "Next, we'll confirm that we can connect to the GPU with tensorflow:"
      ]
    },
    {
      "cell_type": "code",
      "metadata": {
        "id": "ALNmVnMQieMg",
        "colab_type": "code",
        "outputId": "fa72073e-afbb-4884-f99c-cb2e4450d9dd",
        "colab": {
          "base_uri": "https://localhost:8080/",
          "height": 53
        }
      },
      "source": [
        "%tensorflow_version 1.x\n",
        "import tensorflow as tf\n",
        "device_name = tf.test.gpu_device_name()\n",
        "if device_name != '/device:GPU:0':\n",
        "  raise SystemError('GPU device not found')\n",
        "print('Found GPU at: {}'.format(device_name))"
      ],
      "execution_count": 6,
      "outputs": [
        {
          "output_type": "stream",
          "text": [
            "TensorFlow 1.x selected.\n",
            "Found GPU at: /device:GPU:0\n"
          ],
          "name": "stdout"
        }
      ]
    },
    {
      "cell_type": "markdown",
      "metadata": {
        "id": "Y9NkZgrfKCTH",
        "colab_type": "text"
      },
      "source": [
        "### **Train**\n"
      ]
    },
    {
      "cell_type": "code",
      "metadata": {
        "id": "IyrWhGaGKLf4",
        "colab_type": "code",
        "outputId": "cbe1b55a-f5fd-48ed-b3b5-ffe714b300e3",
        "colab": {
          "base_uri": "https://localhost:8080/",
          "height": 289
        }
      },
      "source": [
        "!pip install mtcnn"
      ],
      "execution_count": 11,
      "outputs": [
        {
          "output_type": "stream",
          "text": [
            "Collecting mtcnn\n",
            "\u001b[?25l  Downloading https://files.pythonhosted.org/packages/67/43/abee91792797c609c1bf30f1112117f7a87a713ebaa6ec5201d5555a73ef/mtcnn-0.1.0-py3-none-any.whl (2.3MB)\n",
            "\r\u001b[K     |▏                               | 10kB 20.0MB/s eta 0:00:01\r\u001b[K     |▎                               | 20kB 4.2MB/s eta 0:00:01\r\u001b[K     |▍                               | 30kB 6.1MB/s eta 0:00:01\r\u001b[K     |▋                               | 40kB 7.7MB/s eta 0:00:01\r\u001b[K     |▊                               | 51kB 5.0MB/s eta 0:00:01\r\u001b[K     |▉                               | 61kB 5.8MB/s eta 0:00:01\r\u001b[K     |█                               | 71kB 6.6MB/s eta 0:00:01\r\u001b[K     |█▏                              | 81kB 7.4MB/s eta 0:00:01\r\u001b[K     |█▎                              | 92kB 5.9MB/s eta 0:00:01\r\u001b[K     |█▌                              | 102kB 6.5MB/s eta 0:00:01\r\u001b[K     |█▋                              | 112kB 6.5MB/s eta 0:00:01\r\u001b[K     |█▊                              | 122kB 6.5MB/s eta 0:00:01\r\u001b[K     |█▉                              | 133kB 6.5MB/s eta 0:00:01\r\u001b[K     |██                              | 143kB 6.5MB/s eta 0:00:01\r\u001b[K     |██▏                             | 153kB 6.5MB/s eta 0:00:01\r\u001b[K     |██▎                             | 163kB 6.5MB/s eta 0:00:01\r\u001b[K     |██▌                             | 174kB 6.5MB/s eta 0:00:01\r\u001b[K     |██▋                             | 184kB 6.5MB/s eta 0:00:01\r\u001b[K     |██▊                             | 194kB 6.5MB/s eta 0:00:01\r\u001b[K     |███                             | 204kB 6.5MB/s eta 0:00:01\r\u001b[K     |███                             | 215kB 6.5MB/s eta 0:00:01\r\u001b[K     |███▏                            | 225kB 6.5MB/s eta 0:00:01\r\u001b[K     |███▍                            | 235kB 6.5MB/s eta 0:00:01\r\u001b[K     |███▌                            | 245kB 6.5MB/s eta 0:00:01\r\u001b[K     |███▋                            | 256kB 6.5MB/s eta 0:00:01\r\u001b[K     |███▊                            | 266kB 6.5MB/s eta 0:00:01\r\u001b[K     |████                            | 276kB 6.5MB/s eta 0:00:01\r\u001b[K     |████                            | 286kB 6.5MB/s eta 0:00:01\r\u001b[K     |████▏                           | 296kB 6.5MB/s eta 0:00:01\r\u001b[K     |████▍                           | 307kB 6.5MB/s eta 0:00:01\r\u001b[K     |████▌                           | 317kB 6.5MB/s eta 0:00:01\r\u001b[K     |████▋                           | 327kB 6.5MB/s eta 0:00:01\r\u001b[K     |████▉                           | 337kB 6.5MB/s eta 0:00:01\r\u001b[K     |█████                           | 348kB 6.5MB/s eta 0:00:01\r\u001b[K     |█████                           | 358kB 6.5MB/s eta 0:00:01\r\u001b[K     |█████▏                          | 368kB 6.5MB/s eta 0:00:01\r\u001b[K     |█████▍                          | 378kB 6.5MB/s eta 0:00:01\r\u001b[K     |█████▌                          | 389kB 6.5MB/s eta 0:00:01\r\u001b[K     |█████▋                          | 399kB 6.5MB/s eta 0:00:01\r\u001b[K     |█████▉                          | 409kB 6.5MB/s eta 0:00:01\r\u001b[K     |██████                          | 419kB 6.5MB/s eta 0:00:01\r\u001b[K     |██████                          | 430kB 6.5MB/s eta 0:00:01\r\u001b[K     |██████▎                         | 440kB 6.5MB/s eta 0:00:01\r\u001b[K     |██████▍                         | 450kB 6.5MB/s eta 0:00:01\r\u001b[K     |██████▌                         | 460kB 6.5MB/s eta 0:00:01\r\u001b[K     |██████▊                         | 471kB 6.5MB/s eta 0:00:01\r\u001b[K     |██████▉                         | 481kB 6.5MB/s eta 0:00:01\r\u001b[K     |███████                         | 491kB 6.5MB/s eta 0:00:01\r\u001b[K     |███████                         | 501kB 6.5MB/s eta 0:00:01\r\u001b[K     |███████▎                        | 512kB 6.5MB/s eta 0:00:01\r\u001b[K     |███████▍                        | 522kB 6.5MB/s eta 0:00:01\r\u001b[K     |███████▌                        | 532kB 6.5MB/s eta 0:00:01\r\u001b[K     |███████▊                        | 542kB 6.5MB/s eta 0:00:01\r\u001b[K     |███████▉                        | 552kB 6.5MB/s eta 0:00:01\r\u001b[K     |████████                        | 563kB 6.5MB/s eta 0:00:01\r\u001b[K     |████████▏                       | 573kB 6.5MB/s eta 0:00:01\r\u001b[K     |████████▎                       | 583kB 6.5MB/s eta 0:00:01\r\u001b[K     |████████▍                       | 593kB 6.5MB/s eta 0:00:01\r\u001b[K     |████████▌                       | 604kB 6.5MB/s eta 0:00:01\r\u001b[K     |████████▊                       | 614kB 6.5MB/s eta 0:00:01\r\u001b[K     |████████▉                       | 624kB 6.5MB/s eta 0:00:01\r\u001b[K     |█████████                       | 634kB 6.5MB/s eta 0:00:01\r\u001b[K     |█████████▏                      | 645kB 6.5MB/s eta 0:00:01\r\u001b[K     |█████████▎                      | 655kB 6.5MB/s eta 0:00:01\r\u001b[K     |█████████▍                      | 665kB 6.5MB/s eta 0:00:01\r\u001b[K     |█████████▋                      | 675kB 6.5MB/s eta 0:00:01\r\u001b[K     |█████████▊                      | 686kB 6.5MB/s eta 0:00:01\r\u001b[K     |█████████▉                      | 696kB 6.5MB/s eta 0:00:01\r\u001b[K     |██████████                      | 706kB 6.5MB/s eta 0:00:01\r\u001b[K     |██████████▏                     | 716kB 6.5MB/s eta 0:00:01\r\u001b[K     |██████████▎                     | 727kB 6.5MB/s eta 0:00:01\r\u001b[K     |██████████▍                     | 737kB 6.5MB/s eta 0:00:01\r\u001b[K     |██████████▋                     | 747kB 6.5MB/s eta 0:00:01\r\u001b[K     |██████████▊                     | 757kB 6.5MB/s eta 0:00:01\r\u001b[K     |██████████▉                     | 768kB 6.5MB/s eta 0:00:01\r\u001b[K     |███████████                     | 778kB 6.5MB/s eta 0:00:01\r\u001b[K     |███████████▏                    | 788kB 6.5MB/s eta 0:00:01\r\u001b[K     |███████████▎                    | 798kB 6.5MB/s eta 0:00:01\r\u001b[K     |███████████▌                    | 808kB 6.5MB/s eta 0:00:01\r\u001b[K     |███████████▋                    | 819kB 6.5MB/s eta 0:00:01\r\u001b[K     |███████████▊                    | 829kB 6.5MB/s eta 0:00:01\r\u001b[K     |███████████▉                    | 839kB 6.5MB/s eta 0:00:01\r\u001b[K     |████████████                    | 849kB 6.5MB/s eta 0:00:01\r\u001b[K     |████████████▏                   | 860kB 6.5MB/s eta 0:00:01\r\u001b[K     |████████████▎                   | 870kB 6.5MB/s eta 0:00:01\r\u001b[K     |████████████▌                   | 880kB 6.5MB/s eta 0:00:01\r\u001b[K     |████████████▋                   | 890kB 6.5MB/s eta 0:00:01\r\u001b[K     |████████████▊                   | 901kB 6.5MB/s eta 0:00:01\r\u001b[K     |█████████████                   | 911kB 6.5MB/s eta 0:00:01\r\u001b[K     |█████████████                   | 921kB 6.5MB/s eta 0:00:01\r\u001b[K     |█████████████▏                  | 931kB 6.5MB/s eta 0:00:01\r\u001b[K     |█████████████▍                  | 942kB 6.5MB/s eta 0:00:01\r\u001b[K     |█████████████▌                  | 952kB 6.5MB/s eta 0:00:01\r\u001b[K     |█████████████▋                  | 962kB 6.5MB/s eta 0:00:01\r\u001b[K     |█████████████▊                  | 972kB 6.5MB/s eta 0:00:01\r\u001b[K     |██████████████                  | 983kB 6.5MB/s eta 0:00:01\r\u001b[K     |██████████████                  | 993kB 6.5MB/s eta 0:00:01\r\u001b[K     |██████████████▏                 | 1.0MB 6.5MB/s eta 0:00:01\r\u001b[K     |██████████████▍                 | 1.0MB 6.5MB/s eta 0:00:01\r\u001b[K     |██████████████▌                 | 1.0MB 6.5MB/s eta 0:00:01\r\u001b[K     |██████████████▋                 | 1.0MB 6.5MB/s eta 0:00:01\r\u001b[K     |██████████████▉                 | 1.0MB 6.5MB/s eta 0:00:01\r\u001b[K     |███████████████                 | 1.1MB 6.5MB/s eta 0:00:01\r\u001b[K     |███████████████                 | 1.1MB 6.5MB/s eta 0:00:01\r\u001b[K     |███████████████▏                | 1.1MB 6.5MB/s eta 0:00:01\r\u001b[K     |███████████████▍                | 1.1MB 6.5MB/s eta 0:00:01\r\u001b[K     |███████████████▌                | 1.1MB 6.5MB/s eta 0:00:01\r\u001b[K     |███████████████▋                | 1.1MB 6.5MB/s eta 0:00:01\r\u001b[K     |███████████████▉                | 1.1MB 6.5MB/s eta 0:00:01\r\u001b[K     |████████████████                | 1.1MB 6.5MB/s eta 0:00:01\r\u001b[K     |████████████████                | 1.1MB 6.5MB/s eta 0:00:01\r\u001b[K     |████████████████▎               | 1.1MB 6.5MB/s eta 0:00:01\r\u001b[K     |████████████████▍               | 1.2MB 6.5MB/s eta 0:00:01\r\u001b[K     |████████████████▌               | 1.2MB 6.5MB/s eta 0:00:01\r\u001b[K     |████████████████▊               | 1.2MB 6.5MB/s eta 0:00:01\r\u001b[K     |████████████████▉               | 1.2MB 6.5MB/s eta 0:00:01\r\u001b[K     |█████████████████               | 1.2MB 6.5MB/s eta 0:00:01\r\u001b[K     |█████████████████               | 1.2MB 6.5MB/s eta 0:00:01\r\u001b[K     |█████████████████▎              | 1.2MB 6.5MB/s eta 0:00:01\r\u001b[K     |█████████████████▍              | 1.2MB 6.5MB/s eta 0:00:01\r\u001b[K     |█████████████████▌              | 1.2MB 6.5MB/s eta 0:00:01\r\u001b[K     |█████████████████▊              | 1.2MB 6.5MB/s eta 0:00:01\r\u001b[K     |█████████████████▉              | 1.3MB 6.5MB/s eta 0:00:01\r\u001b[K     |██████████████████              | 1.3MB 6.5MB/s eta 0:00:01\r\u001b[K     |██████████████████▏             | 1.3MB 6.5MB/s eta 0:00:01\r\u001b[K     |██████████████████▎             | 1.3MB 6.5MB/s eta 0:00:01\r\u001b[K     |██████████████████▍             | 1.3MB 6.5MB/s eta 0:00:01\r\u001b[K     |██████████████████▋             | 1.3MB 6.5MB/s eta 0:00:01\r\u001b[K     |██████████████████▊             | 1.3MB 6.5MB/s eta 0:00:01\r\u001b[K     |██████████████████▉             | 1.3MB 6.5MB/s eta 0:00:01\r\u001b[K     |███████████████████             | 1.3MB 6.5MB/s eta 0:00:01\r\u001b[K     |███████████████████▏            | 1.4MB 6.5MB/s eta 0:00:01\r\u001b[K     |███████████████████▎            | 1.4MB 6.5MB/s eta 0:00:01\r\u001b[K     |███████████████████▍            | 1.4MB 6.5MB/s eta 0:00:01\r\u001b[K     |███████████████████▋            | 1.4MB 6.5MB/s eta 0:00:01\r\u001b[K     |███████████████████▊            | 1.4MB 6.5MB/s eta 0:00:01\r\u001b[K     |███████████████████▉            | 1.4MB 6.5MB/s eta 0:00:01\r\u001b[K     |████████████████████            | 1.4MB 6.5MB/s eta 0:00:01\r\u001b[K     |████████████████████▏           | 1.4MB 6.5MB/s eta 0:00:01\r\u001b[K     |████████████████████▎           | 1.4MB 6.5MB/s eta 0:00:01\r\u001b[K     |████████████████████▍           | 1.4MB 6.5MB/s eta 0:00:01\r\u001b[K     |████████████████████▋           | 1.5MB 6.5MB/s eta 0:00:01\r\u001b[K     |████████████████████▊           | 1.5MB 6.5MB/s eta 0:00:01\r\u001b[K     |████████████████████▉           | 1.5MB 6.5MB/s eta 0:00:01\r\u001b[K     |█████████████████████           | 1.5MB 6.5MB/s eta 0:00:01\r\u001b[K     |█████████████████████▏          | 1.5MB 6.5MB/s eta 0:00:01\r\u001b[K     |█████████████████████▎          | 1.5MB 6.5MB/s eta 0:00:01\r\u001b[K     |█████████████████████▌          | 1.5MB 6.5MB/s eta 0:00:01\r\u001b[K     |█████████████████████▋          | 1.5MB 6.5MB/s eta 0:00:01\r\u001b[K     |█████████████████████▊          | 1.5MB 6.5MB/s eta 0:00:01\r\u001b[K     |██████████████████████          | 1.5MB 6.5MB/s eta 0:00:01\r\u001b[K     |██████████████████████          | 1.6MB 6.5MB/s eta 0:00:01\r\u001b[K     |██████████████████████▏         | 1.6MB 6.5MB/s eta 0:00:01\r\u001b[K     |██████████████████████▎         | 1.6MB 6.5MB/s eta 0:00:01\r\u001b[K     |██████████████████████▌         | 1.6MB 6.5MB/s eta 0:00:01\r\u001b[K     |██████████████████████▋         | 1.6MB 6.5MB/s eta 0:00:01\r\u001b[K     |██████████████████████▊         | 1.6MB 6.5MB/s eta 0:00:01\r\u001b[K     |███████████████████████         | 1.6MB 6.5MB/s eta 0:00:01\r\u001b[K     |███████████████████████         | 1.6MB 6.5MB/s eta 0:00:01\r\u001b[K     |███████████████████████▏        | 1.6MB 6.5MB/s eta 0:00:01\r\u001b[K     |███████████████████████▍        | 1.6MB 6.5MB/s eta 0:00:01\r\u001b[K     |███████████████████████▌        | 1.7MB 6.5MB/s eta 0:00:01\r\u001b[K     |███████████████████████▋        | 1.7MB 6.5MB/s eta 0:00:01\r\u001b[K     |███████████████████████▊        | 1.7MB 6.5MB/s eta 0:00:01\r\u001b[K     |████████████████████████        | 1.7MB 6.5MB/s eta 0:00:01\r\u001b[K     |████████████████████████        | 1.7MB 6.5MB/s eta 0:00:01\r\u001b[K     |████████████████████████▏       | 1.7MB 6.5MB/s eta 0:00:01\r\u001b[K     |████████████████████████▍       | 1.7MB 6.5MB/s eta 0:00:01\r\u001b[K     |████████████████████████▌       | 1.7MB 6.5MB/s eta 0:00:01\r\u001b[K     |████████████████████████▋       | 1.7MB 6.5MB/s eta 0:00:01\r\u001b[K     |████████████████████████▉       | 1.8MB 6.5MB/s eta 0:00:01\r\u001b[K     |█████████████████████████       | 1.8MB 6.5MB/s eta 0:00:01\r\u001b[K     |█████████████████████████       | 1.8MB 6.5MB/s eta 0:00:01\r\u001b[K     |█████████████████████████▎      | 1.8MB 6.5MB/s eta 0:00:01\r\u001b[K     |█████████████████████████▍      | 1.8MB 6.5MB/s eta 0:00:01\r\u001b[K     |█████████████████████████▌      | 1.8MB 6.5MB/s eta 0:00:01\r\u001b[K     |█████████████████████████▋      | 1.8MB 6.5MB/s eta 0:00:01\r\u001b[K     |█████████████████████████▉      | 1.8MB 6.5MB/s eta 0:00:01\r\u001b[K     |██████████████████████████      | 1.8MB 6.5MB/s eta 0:00:01\r\u001b[K     |██████████████████████████      | 1.8MB 6.5MB/s eta 0:00:01\r\u001b[K     |██████████████████████████▎     | 1.9MB 6.5MB/s eta 0:00:01\r\u001b[K     |██████████████████████████▍     | 1.9MB 6.5MB/s eta 0:00:01\r\u001b[K     |██████████████████████████▌     | 1.9MB 6.5MB/s eta 0:00:01\r\u001b[K     |██████████████████████████▊     | 1.9MB 6.5MB/s eta 0:00:01\r\u001b[K     |██████████████████████████▉     | 1.9MB 6.5MB/s eta 0:00:01\r\u001b[K     |███████████████████████████     | 1.9MB 6.5MB/s eta 0:00:01\r\u001b[K     |███████████████████████████     | 1.9MB 6.5MB/s eta 0:00:01\r\u001b[K     |███████████████████████████▎    | 1.9MB 6.5MB/s eta 0:00:01\r\u001b[K     |███████████████████████████▍    | 1.9MB 6.5MB/s eta 0:00:01\r\u001b[K     |███████████████████████████▌    | 1.9MB 6.5MB/s eta 0:00:01\r\u001b[K     |███████████████████████████▊    | 2.0MB 6.5MB/s eta 0:00:01\r\u001b[K     |███████████████████████████▉    | 2.0MB 6.5MB/s eta 0:00:01\r\u001b[K     |████████████████████████████    | 2.0MB 6.5MB/s eta 0:00:01\r\u001b[K     |████████████████████████████▏   | 2.0MB 6.5MB/s eta 0:00:01\r\u001b[K     |████████████████████████████▎   | 2.0MB 6.5MB/s eta 0:00:01\r\u001b[K     |████████████████████████████▍   | 2.0MB 6.5MB/s eta 0:00:01\r\u001b[K     |████████████████████████████▋   | 2.0MB 6.5MB/s eta 0:00:01\r\u001b[K     |████████████████████████████▊   | 2.0MB 6.5MB/s eta 0:00:01\r\u001b[K     |████████████████████████████▉   | 2.0MB 6.5MB/s eta 0:00:01\r\u001b[K     |█████████████████████████████   | 2.0MB 6.5MB/s eta 0:00:01\r\u001b[K     |█████████████████████████████▏  | 2.1MB 6.5MB/s eta 0:00:01\r\u001b[K     |█████████████████████████████▎  | 2.1MB 6.5MB/s eta 0:00:01\r\u001b[K     |█████████████████████████████▍  | 2.1MB 6.5MB/s eta 0:00:01\r\u001b[K     |█████████████████████████████▋  | 2.1MB 6.5MB/s eta 0:00:01\r\u001b[K     |█████████████████████████████▊  | 2.1MB 6.5MB/s eta 0:00:01\r\u001b[K     |█████████████████████████████▉  | 2.1MB 6.5MB/s eta 0:00:01\r\u001b[K     |██████████████████████████████  | 2.1MB 6.5MB/s eta 0:00:01\r\u001b[K     |██████████████████████████████▏ | 2.1MB 6.5MB/s eta 0:00:01\r\u001b[K     |██████████████████████████████▎ | 2.1MB 6.5MB/s eta 0:00:01\r\u001b[K     |██████████████████████████████▍ | 2.2MB 6.5MB/s eta 0:00:01\r\u001b[K     |██████████████████████████████▋ | 2.2MB 6.5MB/s eta 0:00:01\r\u001b[K     |██████████████████████████████▊ | 2.2MB 6.5MB/s eta 0:00:01\r\u001b[K     |██████████████████████████████▉ | 2.2MB 6.5MB/s eta 0:00:01\r\u001b[K     |███████████████████████████████ | 2.2MB 6.5MB/s eta 0:00:01\r\u001b[K     |███████████████████████████████▏| 2.2MB 6.5MB/s eta 0:00:01\r\u001b[K     |███████████████████████████████▎| 2.2MB 6.5MB/s eta 0:00:01\r\u001b[K     |███████████████████████████████▌| 2.2MB 6.5MB/s eta 0:00:01\r\u001b[K     |███████████████████████████████▋| 2.2MB 6.5MB/s eta 0:00:01\r\u001b[K     |███████████████████████████████▊| 2.2MB 6.5MB/s eta 0:00:01\r\u001b[K     |████████████████████████████████| 2.3MB 6.5MB/s eta 0:00:01\r\u001b[K     |████████████████████████████████| 2.3MB 6.5MB/s \n",
            "\u001b[?25hRequirement already satisfied: opencv-python>=4.1.0 in /usr/local/lib/python3.6/dist-packages (from mtcnn) (4.1.2.30)\n",
            "Requirement already satisfied: keras>=2.0.0 in /usr/local/lib/python3.6/dist-packages (from mtcnn) (2.3.1)\n",
            "Requirement already satisfied: numpy>=1.11.3 in /usr/local/lib/python3.6/dist-packages (from opencv-python>=4.1.0->mtcnn) (1.18.2)\n",
            "Requirement already satisfied: keras-preprocessing>=1.0.5 in /usr/local/lib/python3.6/dist-packages (from keras>=2.0.0->mtcnn) (1.1.0)\n",
            "Requirement already satisfied: pyyaml in /usr/local/lib/python3.6/dist-packages (from keras>=2.0.0->mtcnn) (3.13)\n",
            "Requirement already satisfied: six>=1.9.0 in /usr/local/lib/python3.6/dist-packages (from keras>=2.0.0->mtcnn) (1.12.0)\n",
            "Requirement already satisfied: keras-applications>=1.0.6 in /usr/local/lib/python3.6/dist-packages (from keras>=2.0.0->mtcnn) (1.0.8)\n",
            "Requirement already satisfied: h5py in /usr/local/lib/python3.6/dist-packages (from keras>=2.0.0->mtcnn) (2.10.0)\n",
            "Requirement already satisfied: scipy>=0.14 in /usr/local/lib/python3.6/dist-packages (from keras>=2.0.0->mtcnn) (1.4.1)\n",
            "Installing collected packages: mtcnn\n",
            "Successfully installed mtcnn-0.1.0\n"
          ],
          "name": "stdout"
        }
      ]
    },
    {
      "cell_type": "code",
      "metadata": {
        "id": "WmfKh6VeKFsv",
        "colab_type": "code",
        "colab": {}
      },
      "source": [
        "# face detection for the 5 Celebrity Faces Dataset\n",
        "from os import listdir\n",
        "from os.path import isdir\n",
        "from PIL import Image\n",
        "from matplotlib import pyplot\n",
        "from numpy import savez_compressed\n",
        "from numpy import asarray\n",
        "from mtcnn.mtcnn import MTCNN"
      ],
      "execution_count": 0,
      "outputs": []
    },
    {
      "cell_type": "code",
      "metadata": {
        "id": "DzINm4SFXZM1",
        "colab_type": "code",
        "outputId": "6059a134-0098-4217-d84d-ca6c2ecd74c3",
        "colab": {
          "base_uri": "https://localhost:8080/",
          "height": 127
        }
      },
      "source": [
        "# create the detector, using default weights\n",
        "detector = MTCNN()"
      ],
      "execution_count": 13,
      "outputs": [
        {
          "output_type": "stream",
          "text": [
            "WARNING:tensorflow:From /tensorflow-1.15.2/python3.6/tensorflow_core/python/ops/resource_variable_ops.py:1630: calling BaseResourceVariable.__init__ (from tensorflow.python.ops.resource_variable_ops) with constraint is deprecated and will be removed in a future version.\n",
            "Instructions for updating:\n",
            "If using Keras pass *_constraint arguments to layers.\n",
            "WARNING:tensorflow:From /usr/local/lib/python3.6/dist-packages/keras/backend/tensorflow_backend.py:4070: The name tf.nn.max_pool is deprecated. Please use tf.nn.max_pool2d instead.\n",
            "\n"
          ],
          "name": "stdout"
        }
      ]
    },
    {
      "cell_type": "code",
      "metadata": {
        "id": "stSxPWG5KUaB",
        "colab_type": "code",
        "colab": {}
      },
      "source": [
        "# extract a single face from a given photograph\n",
        "def extract_faces(filename, required_size=(160, 160)):\n",
        "\t# load image from file\n",
        "\timage = Image.open(filename)\n",
        "\t# convert to RGB, if needed\n",
        "\timage = image.convert('RGB')\n",
        "\t# convert to array\n",
        "\tpixels = asarray(image)\n",
        "\n",
        "\t# detect faces in the image\n",
        "\tresults = detector.detect_faces(pixels)\n",
        "\n",
        "\tfaces = []\n",
        "\tfor result in results:\n",
        "\t\t# extract the bounding box from the first face\n",
        "\t\tx1, y1, width, height = result['box']\n",
        "\t\t# bug fix\n",
        "\t\tx1, y1 = abs(x1), abs(y1)\n",
        "\t\tx2, y2 = x1 + width, y1 + height\n",
        "\t\t# extract the face\n",
        "\t\tface = pixels[y1:y2, x1:x2]\n",
        "\t\t# resize pixels to the model size\n",
        "\t\timage = Image.fromarray(face)\n",
        "\t\timage = image.resize(required_size)\n",
        "\t\tface_array = asarray(image)\n",
        "\t\tfaces.append(face_array)\n",
        "\treturn faces\n",
        " \n",
        "# load images and extract faces for all images in a directory\n",
        "def load_faces(directory):\n",
        "\tall_faces = list()\n",
        "\t# enumerate files\n",
        "\tfor filename in listdir(directory):\n",
        "\t\t# path\n",
        "\t\tpath = directory + filename\n",
        "\t\t# get face\n",
        "\t\tfaces = extract_faces(path)\n",
        "\t\t# store\n",
        "\t\tall_faces.extend(faces)\n",
        "\treturn all_faces\n",
        " \n",
        "# load a dataset that contains one subdir for each class that in turn contains images\n",
        "def load_dataset(directory):\n",
        "\tX, y = list(), list()\n",
        "\t# enumerate folders, on per class\n",
        "\tfor subdir in listdir(directory):\n",
        "\t\t# path\n",
        "\t\tpath = directory + subdir + '/'\n",
        "\t\t# skip any files that might be in the dir\n",
        "\t\tif not isdir(path):\n",
        "\t\t\tcontinue\n",
        "\t\t# load all faces in the subdirectory\n",
        "\t\tfaces = load_faces(path)\n",
        "\t\t# create labels\n",
        "\t\tlabels = [subdir for _ in range(len(faces))]\n",
        "\t\t# summarize progress\n",
        "\t\tprint('>loaded %d examples for class: %s' % (len(faces), subdir))\n",
        "\t\t# store\n",
        "\t\tX.extend(faces)\n",
        "\t\ty.extend(labels)\n",
        "\treturn asarray(X), asarray(y)"
      ],
      "execution_count": 0,
      "outputs": []
    },
    {
      "cell_type": "code",
      "metadata": {
        "id": "NZ81Ca7gQWM_",
        "colab_type": "code",
        "colab": {}
      },
      "source": [
        "import os\n",
        "\n",
        "root_folder = '/content/gdrive/My Drive/deep_learning/mtcnn_face_recognition/'\n",
        "dataset_folder = os.path.join(root_folder, \"5-celebrity-faces-dataset/\")\n"
      ],
      "execution_count": 0,
      "outputs": []
    },
    {
      "cell_type": "markdown",
      "metadata": {
        "id": "rtQBt6g5QLfB",
        "colab_type": "text"
      },
      "source": [
        "## **Detect Faces**"
      ]
    },
    {
      "cell_type": "code",
      "metadata": {
        "id": "afkR7UIFQJbS",
        "colab_type": "code",
        "outputId": "2d364848-f612-4168-9659-57cbdaa232dc",
        "colab": {
          "base_uri": "https://localhost:8080/",
          "height": 498
        }
      },
      "source": [
        "from os import listdir\n",
        "from PIL import Image\n",
        "from numpy import asarray\n",
        "from matplotlib import pyplot\n",
        "from mtcnn.mtcnn import MTCNN\n",
        "\n",
        "\n",
        "# specify folder to plot\n",
        "folder = os.path.join(dataset_folder, \"train/mindy_kaling/\")\n",
        "\n",
        "i = 1\n",
        "# enumerate files\n",
        "for filename in listdir(folder):\n",
        "    # path\n",
        "    path = folder + filename\n",
        "    # get face\n",
        "    faces = extract_faces(path)\n",
        "    for face in faces:\n",
        "        print(i, face.shape)\n",
        "        # plot\n",
        "        pyplot.subplot(2, 7, i)\n",
        "        pyplot.axis('off')\n",
        "        pyplot.imshow(face)\n",
        "        i += 1\n",
        "\n",
        "    if i == 15:\n",
        "        break\n",
        "        \n",
        "pyplot.show()"
      ],
      "execution_count": 0,
      "outputs": [
        {
          "output_type": "stream",
          "text": [
            "WARNING:tensorflow:From /usr/local/lib/python3.6/dist-packages/keras/backend/tensorflow_backend.py:422: The name tf.global_variables is deprecated. Please use tf.compat.v1.global_variables instead.\n",
            "\n",
            "1 (160, 160, 3)\n",
            "2 (160, 160, 3)\n",
            "3 (160, 160, 3)\n",
            "4 (160, 160, 3)\n",
            "5 (160, 160, 3)\n",
            "6 (160, 160, 3)\n",
            "7 (160, 160, 3)\n",
            "8 (160, 160, 3)\n",
            "9 (160, 160, 3)\n",
            "10 (160, 160, 3)\n",
            "11 (160, 160, 3)\n",
            "12 (160, 160, 3)\n",
            "13 (160, 160, 3)\n",
            "14 (160, 160, 3)\n"
          ],
          "name": "stdout"
        },
        {
          "output_type": "display_data",
          "data": {
            "image/png": "[encoded data removed]",
            "text/plain": [
              "<Figure size 432x288 with 14 Axes>"
            ]
          },
          "metadata": {
            "tags": [],
            "needs_background": "light"
          }
        }
      ]
    },
    {
      "cell_type": "markdown",
      "metadata": {
        "id": "fJyHEEiopuUO",
        "colab_type": "text"
      },
      "source": [
        "## generate face dataset"
      ]
    },
    {
      "cell_type": "code",
      "metadata": {
        "id": "CVBO3NvNKXw-",
        "colab_type": "code",
        "colab": {}
      },
      "source": [
        "training_folder = os.path.join(dataset_folder, \"train/\")\n",
        "validation_folder = os.path.join(dataset_folder, \"val/\")\n",
        "\n",
        "# load train dataset\n",
        "trainX, trainy = load_dataset(training_folder)\n",
        "print(trainX.shape, trainy.shape)\n",
        "# load test dataset\n",
        "testX, testy = load_dataset(validation_folder)\n",
        "\n",
        "output_folder = os.path.join(root_folder, \"output\")\n",
        "os.makedirs(output_folder, exist_ok=True)\n",
        "\n",
        "faces_dataset_file = os.path.join(output_folder, \"5-celebrity-faces-dataset.npz\")\n",
        "\n",
        "# save arrays to +one file in compressed format\n",
        "savez_compressed(faces_dataset_file, trainX, trainy, testX, testy)"
      ],
      "execution_count": 0,
      "outputs": []
    },
    {
      "cell_type": "markdown",
      "metadata": {
        "id": "Kw-T6Vap4uTX",
        "colab_type": "text"
      },
      "source": [
        "## Dataset"
      ]
    },
    {
      "cell_type": "code",
      "metadata": {
        "id": "LfrbVasZ4rZU",
        "colab_type": "code",
        "colab": {}
      },
      "source": [
        "import keras\n",
        "from keras.models import Sequential\n",
        "from keras.layers import Dense, Dropout, Flatten\n",
        "from keras.layers import Conv2D, MaxPooling2D\n",
        "from keras.utils import to_categorical\n",
        "from keras.preprocessing import image\n",
        "import numpy as np\n",
        "import pandas as pd\n",
        "import matplotlib.pyplot as plt\n",
        "from sklearn.model_selection import train_test_split"
      ],
      "execution_count": 0,
      "outputs": []
    },
    {
      "cell_type": "code",
      "metadata": {
        "id": "D-V5uKNz5b3p",
        "colab_type": "code",
        "outputId": "cd289165-94f6-40bf-99a9-270d494e0cc3",
        "colab": {
          "base_uri": "https://localhost:8080/",
          "height": 53
        }
      },
      "source": [
        "from numpy import load\n",
        "from sklearn.metrics import accuracy_score\n",
        "from sklearn.preprocessing import LabelEncoder\n",
        "from sklearn.preprocessing import Normalizer\n",
        "\n",
        "# load the face dataset\n",
        "face_dataset_file = os.path.join(root_folder, \"output/5-celebrity-faces-dataset.npz\")\n",
        "data = load(face_dataset_file)\n",
        "trainX, trainy, testX, testy = data['arr_0'], data['arr_1'], data['arr_2'], data['arr_3']\n",
        "\n",
        "print('Loaded: ', trainX.shape, trainy.shape, testX.shape, testy.shape)\n",
        "\n",
        "total_classes = len(set(trainy))\n",
        "print(f\"Total classes : {total_classes}\")"
      ],
      "execution_count": 18,
      "outputs": [
        {
          "output_type": "stream",
          "text": [
            "Loaded:  (98, 160, 160, 3) (98,) (28, 160, 160, 3) (28,)\n",
            "Total classes : 5\n"
          ],
          "name": "stdout"
        }
      ]
    },
    {
      "cell_type": "code",
      "metadata": {
        "id": "APwWc39tIlag",
        "colab_type": "code",
        "outputId": "91913c2d-0aa0-4ab6-9a2d-a63caf2e270a",
        "colab": {
          "base_uri": "https://localhost:8080/",
          "height": 35
        }
      },
      "source": [
        "trainX = trainX / 255.0\n",
        "print(f\"trainX.shape after normalization : {trainX.shape}\")"
      ],
      "execution_count": 19,
      "outputs": [
        {
          "output_type": "stream",
          "text": [
            "trainX.shape after normalization : (98, 160, 160, 3)\n"
          ],
          "name": "stdout"
        }
      ]
    },
    {
      "cell_type": "code",
      "metadata": {
        "id": "HlG_4eItKvAT",
        "colab_type": "code",
        "outputId": "88cebd46-9b3d-4661-df10-1c972a2fef06",
        "colab": {
          "base_uri": "https://localhost:8080/",
          "height": 35
        }
      },
      "source": [
        "from sklearn.preprocessing import LabelBinarizer\n",
        "encoder = LabelBinarizer()\n",
        "encoded_trainy = encoder.fit_transform(trainy)\n",
        "# print(encoded_trainy)\n",
        "# transfomed_label = to_categorical(encoded_trainy, num_classes=total_classes)\n",
        "# print(f\"transfomed_label.shape : {encoded_trainy.shape}\")\n",
        "\n",
        "print(f\"transfomed_label.shape : {encoded_trainy.shape}\")"
      ],
      "execution_count": 20,
      "outputs": [
        {
          "output_type": "stream",
          "text": [
            "transfomed_label.shape : (98, 5)\n"
          ],
          "name": "stdout"
        }
      ]
    },
    {
      "cell_type": "code",
      "metadata": {
        "id": "Z8DfNjxyMsFq",
        "colab_type": "code",
        "outputId": "68eb20ac-566b-4132-b8a8-2fdc4541e30a",
        "colab": {
          "base_uri": "https://localhost:8080/",
          "height": 53
        }
      },
      "source": [
        "testX = testX / 255.0\n",
        "print(f\"trainX.shape after normalization : {trainX.shape}\")\n",
        "encoded_testy = encoder.fit_transform(testy)\n",
        "print(f\"transfomed_label.shape : {encoded_testy.shape}\")"
      ],
      "execution_count": 21,
      "outputs": [
        {
          "output_type": "stream",
          "text": [
            "trainX.shape after normalization : (98, 160, 160, 3)\n",
            "transfomed_label.shape : (28, 5)\n"
          ],
          "name": "stdout"
        }
      ]
    },
    {
      "cell_type": "markdown",
      "metadata": {
        "id": "lud5tvb74ZZr",
        "colab_type": "text"
      },
      "source": [
        "## CNN Model"
      ]
    },
    {
      "cell_type": "code",
      "metadata": {
        "id": "LEe2Yn2pog1V",
        "colab_type": "code",
        "colab": {
          "base_uri": "https://localhost:8080/",
          "height": 1000
        },
        "outputId": "126269c7-6efb-431c-d2e8-dfd406cbc9a7"
      },
      "source": [
        "from keras.layers import Dense, Conv2D, MaxPooling2D, BatchNormalization, GlobalAveragePooling2D\n",
        "\n",
        "from keras import models\n",
        "\n",
        "cnn_model= models.Sequential()\n",
        "cnn_model.add(Conv2D(16, (3, 3), activation='relu', padding='same', \n",
        "                    input_shape=(160, 160,3)))\n",
        "cnn_model.add(MaxPooling2D((2, 2), padding='same'))\n",
        "\n",
        "cnn_model.add(Conv2D(32, (3, 3), activation='relu', padding='same'))\n",
        "cnn_model.add(MaxPooling2D((2, 2), padding='same'))\n",
        "\n",
        "cnn_model.add(Conv2D(64, (3, 3), activation='relu', padding='same'))\n",
        "cnn_model.add(MaxPooling2D((2, 2), padding='same'))\n",
        "\n",
        "cnn_model.add(Conv2D(128, (3, 3), activation='relu', padding='same'))\n",
        "cnn_model.add(MaxPooling2D((2, 2), padding='same'))\n",
        "cnn_model.add(GlobalAveragePooling2D())\n",
        "cnn_model.add(Dense(64, activation='relu'))\n",
        "cnn_model.add(BatchNormalization())\n",
        "\n",
        "cnn_model.add(Dense(5, activation='sigmoid'))\n",
        "\n",
        "cnn_model.compile(optimizer='adam', loss='binary_crossentropy', \n",
        "                 metrics=['accuracy'])\n",
        "\n",
        "history = cnn_model.fit(trainX, encoded_trainy, epochs=201, validation_data=(testX, encoded_testy), batch_size=64)"
      ],
      "execution_count": 30,
      "outputs": [
        {
          "output_type": "stream",
          "text": [
            "Train on 98 samples, validate on 28 samples\n",
            "Epoch 1/201\n",
            "98/98 [==============================] - 1s 7ms/step - loss: 0.6940 - accuracy: 0.5571 - val_loss: 0.6836 - val_accuracy: 0.6714\n",
            "Epoch 2/201\n",
            "98/98 [==============================] - 0s 2ms/step - loss: 0.6554 - accuracy: 0.6306 - val_loss: 0.6819 - val_accuracy: 0.6714\n",
            "Epoch 3/201\n",
            "98/98 [==============================] - 0s 2ms/step - loss: 0.6475 - accuracy: 0.6490 - val_loss: 0.6803 - val_accuracy: 0.6571\n",
            "Epoch 4/201\n",
            "98/98 [==============================] - 0s 2ms/step - loss: 0.6372 - accuracy: 0.6612 - val_loss: 0.6788 - val_accuracy: 0.6214\n",
            "Epoch 5/201\n",
            "98/98 [==============================] - 0s 2ms/step - loss: 0.6224 - accuracy: 0.6878 - val_loss: 0.6757 - val_accuracy: 0.7000\n",
            "Epoch 6/201\n",
            "98/98 [==============================] - 0s 2ms/step - loss: 0.6099 - accuracy: 0.7020 - val_loss: 0.6726 - val_accuracy: 0.6929\n",
            "Epoch 7/201\n",
            "98/98 [==============================] - 0s 2ms/step - loss: 0.6000 - accuracy: 0.7061 - val_loss: 0.6713 - val_accuracy: 0.6571\n",
            "Epoch 8/201\n",
            "98/98 [==============================] - 0s 2ms/step - loss: 0.5912 - accuracy: 0.7122 - val_loss: 0.6697 - val_accuracy: 0.6143\n",
            "Epoch 9/201\n",
            "98/98 [==============================] - 0s 2ms/step - loss: 0.5840 - accuracy: 0.7184 - val_loss: 0.6651 - val_accuracy: 0.6571\n",
            "Epoch 10/201\n",
            "98/98 [==============================] - 0s 2ms/step - loss: 0.5730 - accuracy: 0.7367 - val_loss: 0.6621 - val_accuracy: 0.6857\n",
            "Epoch 11/201\n",
            "98/98 [==============================] - 0s 2ms/step - loss: 0.5641 - accuracy: 0.7429 - val_loss: 0.6604 - val_accuracy: 0.6929\n",
            "Epoch 12/201\n",
            "98/98 [==============================] - 0s 2ms/step - loss: 0.5524 - accuracy: 0.7490 - val_loss: 0.6576 - val_accuracy: 0.6857\n",
            "Epoch 13/201\n",
            "98/98 [==============================] - 0s 2ms/step - loss: 0.5417 - accuracy: 0.7592 - val_loss: 0.6530 - val_accuracy: 0.7214\n",
            "Epoch 14/201\n",
            "98/98 [==============================] - 0s 2ms/step - loss: 0.5334 - accuracy: 0.7755 - val_loss: 0.6501 - val_accuracy: 0.7071\n",
            "Epoch 15/201\n",
            "98/98 [==============================] - 0s 2ms/step - loss: 0.5249 - accuracy: 0.7918 - val_loss: 0.6438 - val_accuracy: 0.7929\n",
            "Epoch 16/201\n",
            "98/98 [==============================] - 0s 2ms/step - loss: 0.5170 - accuracy: 0.7959 - val_loss: 0.6379 - val_accuracy: 0.7429\n",
            "Epoch 17/201\n",
            "98/98 [==============================] - 0s 2ms/step - loss: 0.5048 - accuracy: 0.7918 - val_loss: 0.6387 - val_accuracy: 0.7143\n",
            "Epoch 18/201\n",
            "98/98 [==============================] - 0s 2ms/step - loss: 0.4917 - accuracy: 0.8102 - val_loss: 0.6362 - val_accuracy: 0.7500\n",
            "Epoch 19/201\n",
            "98/98 [==============================] - 0s 2ms/step - loss: 0.4919 - accuracy: 0.8102 - val_loss: 0.6300 - val_accuracy: 0.8143\n",
            "Epoch 20/201\n",
            "98/98 [==============================] - 0s 2ms/step - loss: 0.4767 - accuracy: 0.8204 - val_loss: 0.6228 - val_accuracy: 0.8286\n",
            "Epoch 21/201\n",
            "98/98 [==============================] - 0s 2ms/step - loss: 0.4682 - accuracy: 0.8122 - val_loss: 0.6202 - val_accuracy: 0.8143\n",
            "Epoch 22/201\n",
            "98/98 [==============================] - 0s 2ms/step - loss: 0.4611 - accuracy: 0.8184 - val_loss: 0.6167 - val_accuracy: 0.8071\n",
            "Epoch 23/201\n",
            "98/98 [==============================] - 0s 2ms/step - loss: 0.4456 - accuracy: 0.8327 - val_loss: 0.6116 - val_accuracy: 0.8286\n",
            "Epoch 24/201\n",
            "98/98 [==============================] - 0s 2ms/step - loss: 0.4530 - accuracy: 0.8245 - val_loss: 0.6029 - val_accuracy: 0.8286\n",
            "Epoch 25/201\n",
            "98/98 [==============================] - 0s 2ms/step - loss: 0.4347 - accuracy: 0.8469 - val_loss: 0.5953 - val_accuracy: 0.8143\n",
            "Epoch 26/201\n",
            "98/98 [==============================] - 0s 2ms/step - loss: 0.4269 - accuracy: 0.8551 - val_loss: 0.5860 - val_accuracy: 0.8071\n",
            "Epoch 27/201\n",
            "98/98 [==============================] - 0s 2ms/step - loss: 0.4110 - accuracy: 0.8531 - val_loss: 0.5832 - val_accuracy: 0.8143\n",
            "Epoch 28/201\n",
            "98/98 [==============================] - 0s 2ms/step - loss: 0.4039 - accuracy: 0.8653 - val_loss: 0.5801 - val_accuracy: 0.8214\n",
            "Epoch 29/201\n",
            "98/98 [==============================] - 0s 2ms/step - loss: 0.3903 - accuracy: 0.8755 - val_loss: 0.5744 - val_accuracy: 0.8214\n",
            "Epoch 30/201\n",
            "98/98 [==============================] - 0s 2ms/step - loss: 0.3774 - accuracy: 0.8714 - val_loss: 0.5689 - val_accuracy: 0.8143\n",
            "Epoch 31/201\n",
            "98/98 [==============================] - 0s 2ms/step - loss: 0.3634 - accuracy: 0.8796 - val_loss: 0.5622 - val_accuracy: 0.8143\n",
            "Epoch 32/201\n",
            "98/98 [==============================] - 0s 2ms/step - loss: 0.3664 - accuracy: 0.8898 - val_loss: 0.5563 - val_accuracy: 0.8143\n",
            "Epoch 33/201\n",
            "98/98 [==============================] - 0s 2ms/step - loss: 0.3430 - accuracy: 0.9061 - val_loss: 0.5560 - val_accuracy: 0.8143\n",
            "Epoch 34/201\n",
            "98/98 [==============================] - 0s 2ms/step - loss: 0.3366 - accuracy: 0.9082 - val_loss: 0.5497 - val_accuracy: 0.8143\n",
            "Epoch 35/201\n",
            "98/98 [==============================] - 0s 2ms/step - loss: 0.3280 - accuracy: 0.9000 - val_loss: 0.5434 - val_accuracy: 0.8071\n",
            "Epoch 36/201\n",
            "98/98 [==============================] - 0s 2ms/step - loss: 0.3122 - accuracy: 0.9204 - val_loss: 0.5425 - val_accuracy: 0.8143\n",
            "Epoch 37/201\n",
            "98/98 [==============================] - 0s 2ms/step - loss: 0.3112 - accuracy: 0.9184 - val_loss: 0.5335 - val_accuracy: 0.8143\n",
            "Epoch 38/201\n",
            "98/98 [==============================] - 0s 2ms/step - loss: 0.3005 - accuracy: 0.9367 - val_loss: 0.5288 - val_accuracy: 0.8143\n",
            "Epoch 39/201\n",
            "98/98 [==============================] - 0s 2ms/step - loss: 0.3011 - accuracy: 0.9204 - val_loss: 0.5234 - val_accuracy: 0.8071\n",
            "Epoch 40/201\n",
            "98/98 [==============================] - 0s 2ms/step - loss: 0.2827 - accuracy: 0.9408 - val_loss: 0.5202 - val_accuracy: 0.8143\n",
            "Epoch 41/201\n",
            "98/98 [==============================] - 0s 2ms/step - loss: 0.2855 - accuracy: 0.9204 - val_loss: 0.5245 - val_accuracy: 0.8071\n",
            "Epoch 42/201\n",
            "98/98 [==============================] - 0s 2ms/step - loss: 0.2806 - accuracy: 0.9469 - val_loss: 0.5148 - val_accuracy: 0.8143\n",
            "Epoch 43/201\n",
            "98/98 [==============================] - 0s 2ms/step - loss: 0.2653 - accuracy: 0.9408 - val_loss: 0.5076 - val_accuracy: 0.8143\n",
            "Epoch 44/201\n",
            "98/98 [==============================] - 0s 2ms/step - loss: 0.2605 - accuracy: 0.9449 - val_loss: 0.4973 - val_accuracy: 0.7929\n",
            "Epoch 45/201\n",
            "98/98 [==============================] - 0s 2ms/step - loss: 0.2451 - accuracy: 0.9571 - val_loss: 0.4949 - val_accuracy: 0.8071\n",
            "Epoch 46/201\n",
            "98/98 [==============================] - 0s 2ms/step - loss: 0.2404 - accuracy: 0.9571 - val_loss: 0.4972 - val_accuracy: 0.8143\n",
            "Epoch 47/201\n",
            "98/98 [==============================] - 0s 2ms/step - loss: 0.2376 - accuracy: 0.9571 - val_loss: 0.4939 - val_accuracy: 0.8143\n",
            "Epoch 48/201\n",
            "98/98 [==============================] - 0s 2ms/step - loss: 0.2241 - accuracy: 0.9592 - val_loss: 0.4918 - val_accuracy: 0.8071\n",
            "Epoch 49/201\n",
            "98/98 [==============================] - 0s 2ms/step - loss: 0.2226 - accuracy: 0.9694 - val_loss: 0.4865 - val_accuracy: 0.8143\n",
            "Epoch 50/201\n",
            "98/98 [==============================] - 0s 2ms/step - loss: 0.2036 - accuracy: 0.9837 - val_loss: 0.4848 - val_accuracy: 0.8143\n",
            "Epoch 51/201\n",
            "98/98 [==============================] - 0s 2ms/step - loss: 0.1995 - accuracy: 0.9735 - val_loss: 0.4713 - val_accuracy: 0.8071\n",
            "Epoch 52/201\n",
            "98/98 [==============================] - 0s 2ms/step - loss: 0.1974 - accuracy: 0.9755 - val_loss: 0.4674 - val_accuracy: 0.8143\n",
            "Epoch 53/201\n",
            "98/98 [==============================] - 0s 2ms/step - loss: 0.1916 - accuracy: 0.9714 - val_loss: 0.4679 - val_accuracy: 0.8071\n",
            "Epoch 54/201\n",
            "98/98 [==============================] - 0s 2ms/step - loss: 0.1784 - accuracy: 0.9776 - val_loss: 0.4682 - val_accuracy: 0.8071\n",
            "Epoch 55/201\n",
            "98/98 [==============================] - 0s 2ms/step - loss: 0.1777 - accuracy: 0.9816 - val_loss: 0.4598 - val_accuracy: 0.8071\n",
            "Epoch 56/201\n",
            "98/98 [==============================] - 0s 2ms/step - loss: 0.1731 - accuracy: 0.9816 - val_loss: 0.4553 - val_accuracy: 0.8143\n",
            "Epoch 57/201\n",
            "98/98 [==============================] - 0s 2ms/step - loss: 0.1658 - accuracy: 0.9796 - val_loss: 0.4503 - val_accuracy: 0.8143\n",
            "Epoch 58/201\n",
            "98/98 [==============================] - 0s 2ms/step - loss: 0.1534 - accuracy: 0.9878 - val_loss: 0.4560 - val_accuracy: 0.8071\n",
            "Epoch 59/201\n",
            "98/98 [==============================] - 0s 2ms/step - loss: 0.1517 - accuracy: 0.9878 - val_loss: 0.4466 - val_accuracy: 0.8143\n",
            "Epoch 60/201\n",
            "98/98 [==============================] - 0s 2ms/step - loss: 0.1450 - accuracy: 0.9918 - val_loss: 0.4421 - val_accuracy: 0.8143\n",
            "Epoch 61/201\n",
            "98/98 [==============================] - 0s 2ms/step - loss: 0.1336 - accuracy: 0.9939 - val_loss: 0.4436 - val_accuracy: 0.8143\n",
            "Epoch 62/201\n",
            "98/98 [==============================] - 0s 2ms/step - loss: 0.1302 - accuracy: 0.9918 - val_loss: 0.4397 - val_accuracy: 0.8071\n",
            "Epoch 63/201\n",
            "98/98 [==============================] - 0s 2ms/step - loss: 0.1247 - accuracy: 0.9959 - val_loss: 0.4389 - val_accuracy: 0.8143\n",
            "Epoch 64/201\n",
            "98/98 [==============================] - 0s 2ms/step - loss: 0.1191 - accuracy: 0.9959 - val_loss: 0.4372 - val_accuracy: 0.8143\n",
            "Epoch 65/201\n",
            "98/98 [==============================] - 0s 2ms/step - loss: 0.1171 - accuracy: 0.9980 - val_loss: 0.4376 - val_accuracy: 0.8143\n",
            "Epoch 66/201\n",
            "98/98 [==============================] - 0s 2ms/step - loss: 0.1134 - accuracy: 0.9980 - val_loss: 0.4330 - val_accuracy: 0.8071\n",
            "Epoch 67/201\n",
            "98/98 [==============================] - 0s 2ms/step - loss: 0.1064 - accuracy: 0.9980 - val_loss: 0.4286 - val_accuracy: 0.8071\n",
            "Epoch 68/201\n",
            "98/98 [==============================] - 0s 2ms/step - loss: 0.1079 - accuracy: 0.9959 - val_loss: 0.4278 - val_accuracy: 0.8143\n",
            "Epoch 69/201\n",
            "98/98 [==============================] - 0s 2ms/step - loss: 0.1007 - accuracy: 0.9959 - val_loss: 0.4245 - val_accuracy: 0.8071\n",
            "Epoch 70/201\n",
            "98/98 [==============================] - 0s 2ms/step - loss: 0.1004 - accuracy: 0.9980 - val_loss: 0.4238 - val_accuracy: 0.8071\n",
            "Epoch 71/201\n",
            "98/98 [==============================] - 0s 2ms/step - loss: 0.0942 - accuracy: 1.0000 - val_loss: 0.4247 - val_accuracy: 0.8071\n",
            "Epoch 72/201\n",
            "98/98 [==============================] - 0s 2ms/step - loss: 0.0915 - accuracy: 0.9980 - val_loss: 0.4187 - val_accuracy: 0.8071\n",
            "Epoch 73/201\n",
            "98/98 [==============================] - 0s 2ms/step - loss: 0.0841 - accuracy: 0.9980 - val_loss: 0.4216 - val_accuracy: 0.8071\n",
            "Epoch 74/201\n",
            "98/98 [==============================] - 0s 2ms/step - loss: 0.0813 - accuracy: 1.0000 - val_loss: 0.4149 - val_accuracy: 0.8071\n",
            "Epoch 75/201\n",
            "98/98 [==============================] - 0s 2ms/step - loss: 0.0779 - accuracy: 1.0000 - val_loss: 0.4129 - val_accuracy: 0.8071\n",
            "Epoch 76/201\n",
            "98/98 [==============================] - 0s 2ms/step - loss: 0.0804 - accuracy: 0.9980 - val_loss: 0.4090 - val_accuracy: 0.8071\n",
            "Epoch 77/201\n",
            "98/98 [==============================] - 0s 2ms/step - loss: 0.0742 - accuracy: 0.9980 - val_loss: 0.4103 - val_accuracy: 0.8071\n",
            "Epoch 78/201\n",
            "98/98 [==============================] - 0s 2ms/step - loss: 0.0747 - accuracy: 1.0000 - val_loss: 0.4127 - val_accuracy: 0.8071\n",
            "Epoch 79/201\n",
            "98/98 [==============================] - 0s 2ms/step - loss: 0.0734 - accuracy: 0.9980 - val_loss: 0.4055 - val_accuracy: 0.8071\n",
            "Epoch 80/201\n",
            "98/98 [==============================] - 0s 2ms/step - loss: 0.0728 - accuracy: 0.9980 - val_loss: 0.4007 - val_accuracy: 0.8071\n",
            "Epoch 81/201\n",
            "98/98 [==============================] - 0s 2ms/step - loss: 0.0716 - accuracy: 1.0000 - val_loss: 0.4039 - val_accuracy: 0.8071\n",
            "Epoch 82/201\n",
            "98/98 [==============================] - 0s 2ms/step - loss: 0.0659 - accuracy: 1.0000 - val_loss: 0.4132 - val_accuracy: 0.8143\n",
            "Epoch 83/201\n",
            "98/98 [==============================] - 0s 2ms/step - loss: 0.0678 - accuracy: 1.0000 - val_loss: 0.4129 - val_accuracy: 0.8071\n",
            "Epoch 84/201\n",
            "98/98 [==============================] - 0s 2ms/step - loss: 0.0696 - accuracy: 1.0000 - val_loss: 0.4030 - val_accuracy: 0.8071\n",
            "Epoch 85/201\n",
            "98/98 [==============================] - 0s 2ms/step - loss: 0.0629 - accuracy: 0.9980 - val_loss: 0.4063 - val_accuracy: 0.8143\n",
            "Epoch 86/201\n",
            "98/98 [==============================] - 0s 2ms/step - loss: 0.0679 - accuracy: 0.9918 - val_loss: 0.4140 - val_accuracy: 0.8071\n",
            "Epoch 87/201\n",
            "98/98 [==============================] - 0s 2ms/step - loss: 0.0627 - accuracy: 1.0000 - val_loss: 0.4099 - val_accuracy: 0.8071\n",
            "Epoch 88/201\n",
            "98/98 [==============================] - 0s 2ms/step - loss: 0.0637 - accuracy: 1.0000 - val_loss: 0.4003 - val_accuracy: 0.8143\n",
            "Epoch 89/201\n",
            "98/98 [==============================] - 0s 2ms/step - loss: 0.0645 - accuracy: 0.9980 - val_loss: 0.4022 - val_accuracy: 0.8071\n",
            "Epoch 90/201\n",
            "98/98 [==============================] - 0s 2ms/step - loss: 0.0545 - accuracy: 1.0000 - val_loss: 0.4088 - val_accuracy: 0.8143\n",
            "Epoch 91/201\n",
            "98/98 [==============================] - 0s 2ms/step - loss: 0.0540 - accuracy: 1.0000 - val_loss: 0.3927 - val_accuracy: 0.8071\n",
            "Epoch 92/201\n",
            "98/98 [==============================] - 0s 2ms/step - loss: 0.0501 - accuracy: 1.0000 - val_loss: 0.3835 - val_accuracy: 0.8071\n",
            "Epoch 93/201\n",
            "98/98 [==============================] - 0s 2ms/step - loss: 0.0474 - accuracy: 1.0000 - val_loss: 0.3840 - val_accuracy: 0.8071\n",
            "Epoch 94/201\n",
            "98/98 [==============================] - 0s 2ms/step - loss: 0.0461 - accuracy: 1.0000 - val_loss: 0.3863 - val_accuracy: 0.8071\n",
            "Epoch 95/201\n",
            "98/98 [==============================] - 0s 2ms/step - loss: 0.0429 - accuracy: 1.0000 - val_loss: 0.3909 - val_accuracy: 0.8071\n",
            "Epoch 96/201\n",
            "98/98 [==============================] - 0s 2ms/step - loss: 0.0436 - accuracy: 1.0000 - val_loss: 0.3912 - val_accuracy: 0.8143\n",
            "Epoch 97/201\n",
            "98/98 [==============================] - 0s 2ms/step - loss: 0.0442 - accuracy: 1.0000 - val_loss: 0.3889 - val_accuracy: 0.8143\n",
            "Epoch 98/201\n",
            "98/98 [==============================] - 0s 2ms/step - loss: 0.0422 - accuracy: 1.0000 - val_loss: 0.3691 - val_accuracy: 0.8071\n",
            "Epoch 99/201\n",
            "98/98 [==============================] - 0s 2ms/step - loss: 0.0417 - accuracy: 1.0000 - val_loss: 0.3764 - val_accuracy: 0.8143\n",
            "Epoch 100/201\n",
            "98/98 [==============================] - 0s 2ms/step - loss: 0.0363 - accuracy: 1.0000 - val_loss: 0.3846 - val_accuracy: 0.8071\n",
            "Epoch 101/201\n",
            "98/98 [==============================] - 0s 2ms/step - loss: 0.0383 - accuracy: 1.0000 - val_loss: 0.3818 - val_accuracy: 0.8071\n",
            "Epoch 102/201\n",
            "98/98 [==============================] - 0s 2ms/step - loss: 0.0357 - accuracy: 1.0000 - val_loss: 0.3748 - val_accuracy: 0.8071\n",
            "Epoch 103/201\n",
            "98/98 [==============================] - 0s 2ms/step - loss: 0.0373 - accuracy: 1.0000 - val_loss: 0.3788 - val_accuracy: 0.8071\n",
            "Epoch 104/201\n",
            "98/98 [==============================] - 0s 2ms/step - loss: 0.0351 - accuracy: 1.0000 - val_loss: 0.3792 - val_accuracy: 0.8071\n",
            "Epoch 105/201\n",
            "98/98 [==============================] - 0s 2ms/step - loss: 0.0337 - accuracy: 1.0000 - val_loss: 0.3798 - val_accuracy: 0.8071\n",
            "Epoch 106/201\n",
            "98/98 [==============================] - 0s 2ms/step - loss: 0.0320 - accuracy: 1.0000 - val_loss: 0.3796 - val_accuracy: 0.8071\n",
            "Epoch 107/201\n",
            "98/98 [==============================] - 0s 2ms/step - loss: 0.0340 - accuracy: 1.0000 - val_loss: 0.3784 - val_accuracy: 0.8143\n",
            "Epoch 108/201\n",
            "98/98 [==============================] - 0s 2ms/step - loss: 0.0308 - accuracy: 1.0000 - val_loss: 0.3683 - val_accuracy: 0.8143\n",
            "Epoch 109/201\n",
            "98/98 [==============================] - 0s 2ms/step - loss: 0.0308 - accuracy: 1.0000 - val_loss: 0.3626 - val_accuracy: 0.8143\n",
            "Epoch 110/201\n",
            "98/98 [==============================] - 0s 2ms/step - loss: 0.0288 - accuracy: 1.0000 - val_loss: 0.3744 - val_accuracy: 0.8143\n",
            "Epoch 111/201\n",
            "98/98 [==============================] - 0s 2ms/step - loss: 0.0301 - accuracy: 1.0000 - val_loss: 0.3684 - val_accuracy: 0.8143\n",
            "Epoch 112/201\n",
            "98/98 [==============================] - 0s 2ms/step - loss: 0.0288 - accuracy: 1.0000 - val_loss: 0.3653 - val_accuracy: 0.8071\n",
            "Epoch 113/201\n",
            "98/98 [==============================] - 0s 2ms/step - loss: 0.0289 - accuracy: 1.0000 - val_loss: 0.3816 - val_accuracy: 0.8143\n",
            "Epoch 114/201\n",
            "98/98 [==============================] - 0s 2ms/step - loss: 0.0281 - accuracy: 1.0000 - val_loss: 0.3633 - val_accuracy: 0.8143\n",
            "Epoch 115/201\n",
            "98/98 [==============================] - 0s 2ms/step - loss: 0.0244 - accuracy: 1.0000 - val_loss: 0.3702 - val_accuracy: 0.8143\n",
            "Epoch 116/201\n",
            "98/98 [==============================] - 0s 2ms/step - loss: 0.0298 - accuracy: 1.0000 - val_loss: 0.3825 - val_accuracy: 0.8071\n",
            "Epoch 117/201\n",
            "98/98 [==============================] - 0s 2ms/step - loss: 0.0250 - accuracy: 1.0000 - val_loss: 0.3894 - val_accuracy: 0.8071\n",
            "Epoch 118/201\n",
            "98/98 [==============================] - 0s 2ms/step - loss: 0.0274 - accuracy: 1.0000 - val_loss: 0.3708 - val_accuracy: 0.8071\n",
            "Epoch 119/201\n",
            "98/98 [==============================] - 0s 2ms/step - loss: 0.0254 - accuracy: 1.0000 - val_loss: 0.3603 - val_accuracy: 0.8214\n",
            "Epoch 120/201\n",
            "98/98 [==============================] - 0s 2ms/step - loss: 0.0241 - accuracy: 1.0000 - val_loss: 0.3703 - val_accuracy: 0.8214\n",
            "Epoch 121/201\n",
            "98/98 [==============================] - 0s 2ms/step - loss: 0.0235 - accuracy: 1.0000 - val_loss: 0.3571 - val_accuracy: 0.8143\n",
            "Epoch 122/201\n",
            "98/98 [==============================] - 0s 2ms/step - loss: 0.0227 - accuracy: 1.0000 - val_loss: 0.3590 - val_accuracy: 0.8214\n",
            "Epoch 123/201\n",
            "98/98 [==============================] - 0s 2ms/step - loss: 0.0223 - accuracy: 1.0000 - val_loss: 0.3510 - val_accuracy: 0.8143\n",
            "Epoch 124/201\n",
            "98/98 [==============================] - 0s 2ms/step - loss: 0.0223 - accuracy: 1.0000 - val_loss: 0.3390 - val_accuracy: 0.8143\n",
            "Epoch 125/201\n",
            "98/98 [==============================] - 0s 2ms/step - loss: 0.0213 - accuracy: 1.0000 - val_loss: 0.3399 - val_accuracy: 0.8214\n",
            "Epoch 126/201\n",
            "98/98 [==============================] - 0s 2ms/step - loss: 0.0229 - accuracy: 1.0000 - val_loss: 0.3565 - val_accuracy: 0.8286\n",
            "Epoch 127/201\n",
            "98/98 [==============================] - 0s 2ms/step - loss: 0.0201 - accuracy: 1.0000 - val_loss: 0.3486 - val_accuracy: 0.8214\n",
            "Epoch 128/201\n",
            "98/98 [==============================] - 0s 2ms/step - loss: 0.0189 - accuracy: 1.0000 - val_loss: 0.3497 - val_accuracy: 0.8143\n",
            "Epoch 129/201\n",
            "98/98 [==============================] - 0s 2ms/step - loss: 0.0215 - accuracy: 1.0000 - val_loss: 0.3469 - val_accuracy: 0.8214\n",
            "Epoch 130/201\n",
            "98/98 [==============================] - 0s 2ms/step - loss: 0.0212 - accuracy: 1.0000 - val_loss: 0.3600 - val_accuracy: 0.8357\n",
            "Epoch 131/201\n",
            "98/98 [==============================] - 0s 2ms/step - loss: 0.0199 - accuracy: 1.0000 - val_loss: 0.3449 - val_accuracy: 0.8357\n",
            "Epoch 132/201\n",
            "98/98 [==============================] - 0s 2ms/step - loss: 0.0223 - accuracy: 1.0000 - val_loss: 0.3320 - val_accuracy: 0.8429\n",
            "Epoch 133/201\n",
            "98/98 [==============================] - 0s 2ms/step - loss: 0.0226 - accuracy: 1.0000 - val_loss: 0.3288 - val_accuracy: 0.8214\n",
            "Epoch 134/201\n",
            "98/98 [==============================] - 0s 2ms/step - loss: 0.0185 - accuracy: 1.0000 - val_loss: 0.3357 - val_accuracy: 0.8286\n",
            "Epoch 135/201\n",
            "98/98 [==============================] - 0s 2ms/step - loss: 0.0200 - accuracy: 1.0000 - val_loss: 0.3451 - val_accuracy: 0.8286\n",
            "Epoch 136/201\n",
            "98/98 [==============================] - 0s 2ms/step - loss: 0.0198 - accuracy: 1.0000 - val_loss: 0.3671 - val_accuracy: 0.8429\n",
            "Epoch 137/201\n",
            "98/98 [==============================] - 0s 2ms/step - loss: 0.0171 - accuracy: 1.0000 - val_loss: 0.3260 - val_accuracy: 0.8357\n",
            "Epoch 138/201\n",
            "98/98 [==============================] - 0s 2ms/step - loss: 0.0156 - accuracy: 1.0000 - val_loss: 0.3151 - val_accuracy: 0.8357\n",
            "Epoch 139/201\n",
            "98/98 [==============================] - 0s 2ms/step - loss: 0.0166 - accuracy: 1.0000 - val_loss: 0.3077 - val_accuracy: 0.8429\n",
            "Epoch 140/201\n",
            "98/98 [==============================] - 0s 2ms/step - loss: 0.0167 - accuracy: 1.0000 - val_loss: 0.3257 - val_accuracy: 0.8571\n",
            "Epoch 141/201\n",
            "98/98 [==============================] - 0s 2ms/step - loss: 0.0157 - accuracy: 1.0000 - val_loss: 0.3290 - val_accuracy: 0.8429\n",
            "Epoch 142/201\n",
            "98/98 [==============================] - 0s 2ms/step - loss: 0.0153 - accuracy: 1.0000 - val_loss: 0.3165 - val_accuracy: 0.8429\n",
            "Epoch 143/201\n",
            "98/98 [==============================] - 0s 2ms/step - loss: 0.0144 - accuracy: 1.0000 - val_loss: 0.3142 - val_accuracy: 0.8357\n",
            "Epoch 144/201\n",
            "98/98 [==============================] - 0s 2ms/step - loss: 0.0152 - accuracy: 1.0000 - val_loss: 0.3199 - val_accuracy: 0.8286\n",
            "Epoch 145/201\n",
            "98/98 [==============================] - 0s 2ms/step - loss: 0.0156 - accuracy: 1.0000 - val_loss: 0.3350 - val_accuracy: 0.8429\n",
            "Epoch 146/201\n",
            "98/98 [==============================] - 0s 2ms/step - loss: 0.0146 - accuracy: 1.0000 - val_loss: 0.3339 - val_accuracy: 0.8500\n",
            "Epoch 147/201\n",
            "98/98 [==============================] - 0s 2ms/step - loss: 0.0136 - accuracy: 1.0000 - val_loss: 0.3228 - val_accuracy: 0.8286\n",
            "Epoch 148/201\n",
            "98/98 [==============================] - 0s 2ms/step - loss: 0.0135 - accuracy: 1.0000 - val_loss: 0.3259 - val_accuracy: 0.8286\n",
            "Epoch 149/201\n",
            "98/98 [==============================] - 0s 2ms/step - loss: 0.0130 - accuracy: 1.0000 - val_loss: 0.3233 - val_accuracy: 0.8429\n",
            "Epoch 150/201\n",
            "98/98 [==============================] - 0s 2ms/step - loss: 0.0145 - accuracy: 1.0000 - val_loss: 0.3168 - val_accuracy: 0.8500\n",
            "Epoch 151/201\n",
            "98/98 [==============================] - 0s 2ms/step - loss: 0.0124 - accuracy: 1.0000 - val_loss: 0.3098 - val_accuracy: 0.8500\n",
            "Epoch 152/201\n",
            "98/98 [==============================] - 0s 2ms/step - loss: 0.0132 - accuracy: 1.0000 - val_loss: 0.3077 - val_accuracy: 0.8429\n",
            "Epoch 153/201\n",
            "98/98 [==============================] - 0s 2ms/step - loss: 0.0124 - accuracy: 1.0000 - val_loss: 0.3062 - val_accuracy: 0.8429\n",
            "Epoch 154/201\n",
            "98/98 [==============================] - 0s 2ms/step - loss: 0.0124 - accuracy: 1.0000 - val_loss: 0.3030 - val_accuracy: 0.8571\n",
            "Epoch 155/201\n",
            "98/98 [==============================] - 0s 2ms/step - loss: 0.0132 - accuracy: 1.0000 - val_loss: 0.2988 - val_accuracy: 0.8500\n",
            "Epoch 156/201\n",
            "98/98 [==============================] - 0s 2ms/step - loss: 0.0153 - accuracy: 1.0000 - val_loss: 0.3112 - val_accuracy: 0.8571\n",
            "Epoch 157/201\n",
            "98/98 [==============================] - 0s 2ms/step - loss: 0.0148 - accuracy: 1.0000 - val_loss: 0.3025 - val_accuracy: 0.8857\n",
            "Epoch 158/201\n",
            "98/98 [==============================] - 0s 2ms/step - loss: 0.0122 - accuracy: 1.0000 - val_loss: 0.3096 - val_accuracy: 0.8714\n",
            "Epoch 159/201\n",
            "98/98 [==============================] - 0s 2ms/step - loss: 0.0127 - accuracy: 1.0000 - val_loss: 0.2786 - val_accuracy: 0.8571\n",
            "Epoch 160/201\n",
            "98/98 [==============================] - 0s 2ms/step - loss: 0.0121 - accuracy: 1.0000 - val_loss: 0.3047 - val_accuracy: 0.8429\n",
            "Epoch 161/201\n",
            "98/98 [==============================] - 0s 2ms/step - loss: 0.0127 - accuracy: 1.0000 - val_loss: 0.3006 - val_accuracy: 0.8643\n",
            "Epoch 162/201\n",
            "98/98 [==============================] - 0s 2ms/step - loss: 0.0119 - accuracy: 1.0000 - val_loss: 0.3052 - val_accuracy: 0.8714\n",
            "Epoch 163/201\n",
            "98/98 [==============================] - 0s 2ms/step - loss: 0.0132 - accuracy: 1.0000 - val_loss: 0.3059 - val_accuracy: 0.8571\n",
            "Epoch 164/201\n",
            "98/98 [==============================] - 0s 2ms/step - loss: 0.0112 - accuracy: 1.0000 - val_loss: 0.3056 - val_accuracy: 0.8500\n",
            "Epoch 165/201\n",
            "98/98 [==============================] - 0s 2ms/step - loss: 0.0116 - accuracy: 1.0000 - val_loss: 0.3144 - val_accuracy: 0.8571\n",
            "Epoch 166/201\n",
            "98/98 [==============================] - 0s 2ms/step - loss: 0.0123 - accuracy: 1.0000 - val_loss: 0.3089 - val_accuracy: 0.8643\n",
            "Epoch 167/201\n",
            "98/98 [==============================] - 0s 2ms/step - loss: 0.0105 - accuracy: 1.0000 - val_loss: 0.3060 - val_accuracy: 0.8643\n",
            "Epoch 168/201\n",
            "98/98 [==============================] - 0s 2ms/step - loss: 0.0106 - accuracy: 1.0000 - val_loss: 0.2764 - val_accuracy: 0.8714\n",
            "Epoch 169/201\n",
            "98/98 [==============================] - 0s 2ms/step - loss: 0.0107 - accuracy: 1.0000 - val_loss: 0.2639 - val_accuracy: 0.8714\n",
            "Epoch 170/201\n",
            "98/98 [==============================] - 0s 2ms/step - loss: 0.0102 - accuracy: 1.0000 - val_loss: 0.2641 - val_accuracy: 0.8714\n",
            "Epoch 171/201\n",
            "98/98 [==============================] - 0s 2ms/step - loss: 0.0094 - accuracy: 1.0000 - val_loss: 0.2763 - val_accuracy: 0.8714\n",
            "Epoch 172/201\n",
            "98/98 [==============================] - 0s 2ms/step - loss: 0.0106 - accuracy: 1.0000 - val_loss: 0.2727 - val_accuracy: 0.8643\n",
            "Epoch 173/201\n",
            "98/98 [==============================] - 0s 2ms/step - loss: 0.0099 - accuracy: 1.0000 - val_loss: 0.2642 - val_accuracy: 0.8714\n",
            "Epoch 174/201\n",
            "98/98 [==============================] - 0s 2ms/step - loss: 0.0099 - accuracy: 1.0000 - val_loss: 0.2603 - val_accuracy: 0.8714\n",
            "Epoch 175/201\n",
            "98/98 [==============================] - 0s 2ms/step - loss: 0.0095 - accuracy: 1.0000 - val_loss: 0.2638 - val_accuracy: 0.8786\n",
            "Epoch 176/201\n",
            "98/98 [==============================] - 0s 2ms/step - loss: 0.0101 - accuracy: 1.0000 - val_loss: 0.2564 - val_accuracy: 0.8786\n",
            "Epoch 177/201\n",
            "98/98 [==============================] - 0s 2ms/step - loss: 0.0098 - accuracy: 1.0000 - val_loss: 0.2600 - val_accuracy: 0.8714\n",
            "Epoch 178/201\n",
            "98/98 [==============================] - 0s 2ms/step - loss: 0.0084 - accuracy: 1.0000 - val_loss: 0.2583 - val_accuracy: 0.8714\n",
            "Epoch 179/201\n",
            "98/98 [==============================] - 0s 2ms/step - loss: 0.0087 - accuracy: 1.0000 - val_loss: 0.2580 - val_accuracy: 0.8857\n",
            "Epoch 180/201\n",
            "98/98 [==============================] - 0s 2ms/step - loss: 0.0089 - accuracy: 1.0000 - val_loss: 0.2598 - val_accuracy: 0.8786\n",
            "Epoch 181/201\n",
            "98/98 [==============================] - 0s 2ms/step - loss: 0.0078 - accuracy: 1.0000 - val_loss: 0.2747 - val_accuracy: 0.8857\n",
            "Epoch 182/201\n",
            "98/98 [==============================] - 0s 2ms/step - loss: 0.0102 - accuracy: 1.0000 - val_loss: 0.2573 - val_accuracy: 0.8857\n",
            "Epoch 183/201\n",
            "98/98 [==============================] - 0s 2ms/step - loss: 0.0089 - accuracy: 1.0000 - val_loss: 0.2466 - val_accuracy: 0.8857\n",
            "Epoch 184/201\n",
            "98/98 [==============================] - 0s 2ms/step - loss: 0.0099 - accuracy: 1.0000 - val_loss: 0.2432 - val_accuracy: 0.8857\n",
            "Epoch 185/201\n",
            "98/98 [==============================] - 0s 2ms/step - loss: 0.0078 - accuracy: 1.0000 - val_loss: 0.2533 - val_accuracy: 0.8857\n",
            "Epoch 186/201\n",
            "98/98 [==============================] - 0s 2ms/step - loss: 0.0084 - accuracy: 1.0000 - val_loss: 0.2593 - val_accuracy: 0.8857\n",
            "Epoch 187/201\n",
            "98/98 [==============================] - 0s 2ms/step - loss: 0.0086 - accuracy: 1.0000 - val_loss: 0.2542 - val_accuracy: 0.8857\n",
            "Epoch 188/201\n",
            "98/98 [==============================] - 0s 2ms/step - loss: 0.0088 - accuracy: 1.0000 - val_loss: 0.2359 - val_accuracy: 0.8929\n",
            "Epoch 189/201\n",
            "98/98 [==============================] - 0s 2ms/step - loss: 0.0074 - accuracy: 1.0000 - val_loss: 0.2264 - val_accuracy: 0.9000\n",
            "Epoch 190/201\n",
            "98/98 [==============================] - 0s 2ms/step - loss: 0.0077 - accuracy: 1.0000 - val_loss: 0.2355 - val_accuracy: 0.8786\n",
            "Epoch 191/201\n",
            "98/98 [==============================] - 0s 2ms/step - loss: 0.0074 - accuracy: 1.0000 - val_loss: 0.2468 - val_accuracy: 0.8786\n",
            "Epoch 192/201\n",
            "98/98 [==============================] - 0s 2ms/step - loss: 0.0080 - accuracy: 1.0000 - val_loss: 0.2326 - val_accuracy: 0.9071\n",
            "Epoch 193/201\n",
            "98/98 [==============================] - 0s 2ms/step - loss: 0.0070 - accuracy: 1.0000 - val_loss: 0.2309 - val_accuracy: 0.9000\n",
            "Epoch 194/201\n",
            "98/98 [==============================] - 0s 2ms/step - loss: 0.0077 - accuracy: 1.0000 - val_loss: 0.2483 - val_accuracy: 0.8857\n",
            "Epoch 195/201\n",
            "98/98 [==============================] - 0s 2ms/step - loss: 0.0073 - accuracy: 1.0000 - val_loss: 0.2474 - val_accuracy: 0.8786\n",
            "Epoch 196/201\n",
            "98/98 [==============================] - 0s 2ms/step - loss: 0.0070 - accuracy: 1.0000 - val_loss: 0.2287 - val_accuracy: 0.9071\n",
            "Epoch 197/201\n",
            "98/98 [==============================] - 0s 2ms/step - loss: 0.0072 - accuracy: 1.0000 - val_loss: 0.2216 - val_accuracy: 0.9214\n",
            "Epoch 198/201\n",
            "98/98 [==============================] - 0s 2ms/step - loss: 0.0073 - accuracy: 1.0000 - val_loss: 0.2364 - val_accuracy: 0.8929\n",
            "Epoch 199/201\n",
            "98/98 [==============================] - 0s 2ms/step - loss: 0.0082 - accuracy: 1.0000 - val_loss: 0.2409 - val_accuracy: 0.8929\n",
            "Epoch 200/201\n",
            "98/98 [==============================] - 0s 2ms/step - loss: 0.0067 - accuracy: 1.0000 - val_loss: 0.2461 - val_accuracy: 0.8857\n",
            "Epoch 201/201\n",
            "98/98 [==============================] - 0s 2ms/step - loss: 0.0071 - accuracy: 1.0000 - val_loss: 0.2264 - val_accuracy: 0.9071\n"
          ],
          "name": "stdout"
        }
      ]
    },
    {
      "cell_type": "code",
      "metadata": {
        "id": "g9OPl-O0cWdm",
        "colab_type": "code",
        "outputId": "42290c84-fde7-413a-e8d9-a3bcaf8b1486",
        "colab": {
          "base_uri": "https://localhost:8080/",
          "height": 593
        }
      },
      "source": [
        "cnn_model.summary()"
      ],
      "execution_count": 32,
      "outputs": [
        {
          "output_type": "stream",
          "text": [
            "Model: \"sequential_8\"\n",
            "_________________________________________________________________\n",
            "Layer (type)                 Output Shape              Param #   \n",
            "=================================================================\n",
            "conv2d_33 (Conv2D)           (None, 160, 160, 16)      448       \n",
            "_________________________________________________________________\n",
            "max_pooling2d_27 (MaxPooling (None, 80, 80, 16)        0         \n",
            "_________________________________________________________________\n",
            "conv2d_34 (Conv2D)           (None, 80, 80, 32)        4640      \n",
            "_________________________________________________________________\n",
            "max_pooling2d_28 (MaxPooling (None, 40, 40, 32)        0         \n",
            "_________________________________________________________________\n",
            "conv2d_35 (Conv2D)           (None, 40, 40, 64)        18496     \n",
            "_________________________________________________________________\n",
            "max_pooling2d_29 (MaxPooling (None, 20, 20, 64)        0         \n",
            "_________________________________________________________________\n",
            "conv2d_36 (Conv2D)           (None, 20, 20, 128)       73856     \n",
            "_________________________________________________________________\n",
            "max_pooling2d_30 (MaxPooling (None, 10, 10, 128)       0         \n",
            "_________________________________________________________________\n",
            "global_average_pooling2d_4 ( (None, 128)               0         \n",
            "_________________________________________________________________\n",
            "dense_29 (Dense)             (None, 64)                8256      \n",
            "_________________________________________________________________\n",
            "batch_normalization_4 (Batch (None, 64)                256       \n",
            "_________________________________________________________________\n",
            "dense_30 (Dense)             (None, 5)                 325       \n",
            "=================================================================\n",
            "Total params: 106,277\n",
            "Trainable params: 106,149\n",
            "Non-trainable params: 128\n",
            "_________________________________________________________________\n"
          ],
          "name": "stdout"
        }
      ]
    },
    {
      "cell_type": "code",
      "metadata": {
        "id": "vRdenLC_0L10",
        "colab_type": "code",
        "outputId": "bbc9dca4-4b04-4eef-eb5f-cd669258a682",
        "colab": {
          "base_uri": "https://localhost:8080/",
          "height": 573
        }
      },
      "source": [
        "import matplotlib.pyplot as plt\n",
        "\n",
        "# Plot training & validation accuracy values\n",
        "plt.plot(history.history['accuracy'])\n",
        "plt.plot(history.history['val_accuracy'])\n",
        "plt.title('Model accuracy')\n",
        "plt.ylabel('Accuracy')\n",
        "plt.xlabel('Epoch')\n",
        "plt.legend(['Train', 'Test'], loc='upper left')\n",
        "plt.show()\n",
        "\n",
        "# Plot training & validation loss values\n",
        "plt.plot(history.history['loss'])\n",
        "plt.plot(history.history['val_loss'])\n",
        "plt.title('Model loss')\n",
        "plt.ylabel('Loss')\n",
        "plt.xlabel('Epoch')\n",
        "plt.legend(['Train', 'Test'], loc='upper left')\n",
        "plt.show()"
      ],
      "execution_count": 33,
      "outputs": [
        {
          "output_type": "display_data",
          "data": {
            "image/png": "[encoded data removed]",
            "text/plain": [
              "<Figure size 432x288 with 1 Axes>"
            ]
          },
          "metadata": {
            "tags": [],
            "needs_background": "light"
          }
        },
        {
          "output_type": "display_data",
          "data": {
            "image/png": "[encoded data removed]",
            "text/plain": [
              "<Figure size 432x288 with 1 Axes>"
            ]
          },
          "metadata": {
            "tags": [],
            "needs_background": "light"
          }
        }
      ]
    },
    {
      "cell_type": "code",
      "metadata": {
        "id": "0CbHyhL5wR1W",
        "colab_type": "code",
        "colab": {}
      },
      "source": [
        ""
      ],
      "execution_count": 0,
      "outputs": []
    },
    {
      "cell_type": "code",
      "metadata": {
        "id": "O7xZHVXdwYMr",
        "colab_type": "code",
        "colab": {}
      },
      "source": [
        ""
      ],
      "execution_count": 0,
      "outputs": []
    }
  ]
}