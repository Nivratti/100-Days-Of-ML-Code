{
  "nbformat": 4,
  "nbformat_minor": 0,
  "metadata": {
    "colab": {
      "name": "Text-sentiment-analysis-2.ipynb",
      "provenance": [],
      "collapsed_sections": [],
      "include_colab_link": true
    },
    "kernelspec": {
      "name": "python3",
      "display_name": "Python 3"
    },
    "accelerator": "GPU"
  },
  "cells": [
    {
      "cell_type": "markdown",
      "metadata": {
        "id": "view-in-github",
        "colab_type": "text"
      },
      "source": [
        "<a href=\"https://colab.research.google.com/github/Nivratti/100-Days-Of-ML-Code/blob/master/Text_sentiment_analysis_2.ipynb\" target=\"_parent\"><img src=\"https://colab.research.google.com/assets/colab-badge.svg\" alt=\"Open In Colab\"/></a>"
      ]
    },
    {
      "cell_type": "markdown",
      "metadata": {
        "id": "P0RyGlWpct5y",
        "colab_type": "text"
      },
      "source": [
        "# Text sentiment analysis on Amazon Reviews"
      ]
    },
    {
      "cell_type": "markdown",
      "metadata": {
        "id": "nzu4UWqO3iH8",
        "colab_type": "text"
      },
      "source": [
        "# Connect Google Colab with Google Drive"
      ]
    },
    {
      "cell_type": "code",
      "metadata": {
        "id": "3G64KSaO3ju9",
        "colab_type": "code",
        "colab": {}
      },
      "source": [
        "from google.colab import drive"
      ],
      "execution_count": 0,
      "outputs": []
    },
    {
      "cell_type": "code",
      "metadata": {
        "id": "VJcNFwSE3ns1",
        "colab_type": "code",
        "outputId": "18cf333d-6b9d-4638-c822-c3c4c9326e4e",
        "colab": {
          "base_uri": "https://localhost:8080/",
          "height": 127
        }
      },
      "source": [
        "drive.mount('/content/gdrive')"
      ],
      "execution_count": 0,
      "outputs": [
        {
          "output_type": "stream",
          "text": [
            "Go to this URL in a browser: https://accounts.google.com/o/oauth2/auth?client_id=947318989803-6bn6qk8qdgf4n4g3pfee6491hc0brc4i.apps.googleusercontent.com&redirect_uri=urn%3aietf%3awg%3aoauth%3a2.0%3aoob&response_type=code&scope=email%20https%3a%2f%2fwww.googleapis.com%2fauth%2fdocs.test%20https%3a%2f%2fwww.googleapis.com%2fauth%2fdrive%20https%3a%2f%2fwww.googleapis.com%2fauth%2fdrive.photos.readonly%20https%3a%2f%2fwww.googleapis.com%2fauth%2fpeopleapi.readonly\n",
            "\n",
            "Enter your authorization code:\n",
            "··········\n",
            "Mounted at /content/gdrive\n"
          ],
          "name": "stdout"
        }
      ]
    },
    {
      "cell_type": "markdown",
      "metadata": {
        "id": "iNUnBH5GjYRA",
        "colab_type": "text"
      },
      "source": [
        "## prevent-google-colab-from-disconnecting"
      ]
    },
    {
      "cell_type": "markdown",
      "metadata": {
        "id": "kPlKxvxLivvd",
        "colab_type": "text"
      },
      "source": [
        "Google Colab notebooks have an idle timeout of 90 minutes and absolute timeout of 12 hours. This means, if user does not interact with his Google Colab notebook for more than 90 minutes, its instance is automatically terminated. Also, maximum lifetime of a Colab instance is 12 hours.\n",
        "\n",
        "Solution:\n",
        "\n",
        "Set a javascript interval to click on the connect button every 60 seconds. Open developer-settings (in your web-browser) with Ctrl+Shift+I then click on console tab and type this on the console prompt. (for mac press Option+Command+I)\n",
        "\n",
        "inser below code on console\n",
        "\n",
        "```\n",
        "function ConnectButton(){\n",
        "    console.log(\"Connect pushed\"); \n",
        "    document.querySelector(\"#top-toolbar > colab-connect-button\").shadowRoot.querySelector(\"#connect\").click() \n",
        "}\n",
        "setInterval(ConnectButton, 1000);\n",
        "```\n",
        "\n",
        "\n"
      ]
    },
    {
      "cell_type": "markdown",
      "metadata": {
        "id": "47BMevlphFtj",
        "colab_type": "text"
      },
      "source": [
        "# Execution Time"
      ]
    },
    {
      "cell_type": "code",
      "metadata": {
        "id": "B6s_b71thFF3",
        "colab_type": "code",
        "outputId": "32dd1129-61e9-4103-9841-8e7c0afd2a47",
        "colab": {
          "base_uri": "https://localhost:8080/",
          "height": 199
        }
      },
      "source": [
        "!pip install ipython-autotime\n",
        "\n",
        "%load_ext autotime"
      ],
      "execution_count": 0,
      "outputs": [
        {
          "output_type": "stream",
          "text": [
            "Collecting ipython-autotime\n",
            "  Downloading https://files.pythonhosted.org/packages/e6/f9/0626bbdb322e3a078d968e87e3b01341e7890544de891d0cb613641220e6/ipython-autotime-0.1.tar.bz2\n",
            "Building wheels for collected packages: ipython-autotime\n",
            "  Building wheel for ipython-autotime (setup.py) ... \u001b[?25l\u001b[?25hdone\n",
            "  Created wheel for ipython-autotime: filename=ipython_autotime-0.1-cp36-none-any.whl size=1832 sha256=2aaf9c2600d966b8b0f9794a752e6cf460c36665b6d40f3dae47b12eec0afe0b\n",
            "  Stored in directory: /root/.cache/pip/wheels/d2/df/81/2db1e54bc91002cec40334629bc39cfa86dff540b304ebcd6e\n",
            "Successfully built ipython-autotime\n",
            "Installing collected packages: ipython-autotime\n",
            "Successfully installed ipython-autotime-0.1\n"
          ],
          "name": "stdout"
        }
      ]
    },
    {
      "cell_type": "markdown",
      "metadata": {
        "id": "nR8lB67Y4NsF",
        "colab_type": "text"
      },
      "source": [
        "# Tensorflow with GPU -- For faster training"
      ]
    },
    {
      "cell_type": "markdown",
      "metadata": {
        "id": "4kJQBOgL4aVT",
        "colab_type": "text"
      },
      "source": [
        "Enabling and testing the GPU"
      ]
    },
    {
      "cell_type": "markdown",
      "metadata": {
        "id": "7WWt4C1h4d7L",
        "colab_type": "text"
      },
      "source": [
        "First, you'll need to enable GPUs for the notebook:\n",
        "\n",
        "Navigate to Edit→Notebook Settings\n",
        "select GPU from the Hardware Accelerator drop-down\n",
        "Next, we'll confirm that we can connect to the GPU with tensorflow:"
      ]
    },
    {
      "cell_type": "code",
      "metadata": {
        "id": "WqrHWhM74Q8X",
        "colab_type": "code",
        "outputId": "2c80c1bb-9d26-4c6f-a0ac-46d0c3bb3fce",
        "colab": {
          "base_uri": "https://localhost:8080/",
          "height": 71
        }
      },
      "source": [
        "%tensorflow_version 1.x\n",
        "import tensorflow as tf\n",
        "device_name = tf.test.gpu_device_name()\n",
        "if device_name != '/device:GPU:0':\n",
        "  raise SystemError('GPU device not found')\n",
        "print('Found GPU at: {}'.format(device_name))"
      ],
      "execution_count": 0,
      "outputs": [
        {
          "output_type": "stream",
          "text": [
            "TensorFlow 1.x selected.\n",
            "Found GPU at: /device:GPU:0\n",
            "time: 6.74 s\n"
          ],
          "name": "stdout"
        }
      ]
    },
    {
      "cell_type": "markdown",
      "metadata": {
        "id": "zyI5VRJj4vX-",
        "colab_type": "text"
      },
      "source": [
        "# Global vars"
      ]
    },
    {
      "cell_type": "code",
      "metadata": {
        "id": "qWXwvsSpax-T",
        "colab_type": "code",
        "outputId": "195d0487-6e05-4fc3-f090-18c560505dd9",
        "colab": {
          "base_uri": "https://localhost:8080/",
          "height": 35
        }
      },
      "source": [
        "import os\n",
        "\n",
        "# project folder on rive containing dataset, trained model and other files\n",
        "DRIVE_PROJECT_BASE_DIR = \"/content/gdrive/My Drive/deep_learning/text_sentiment_analysis/\"\n",
        "\n",
        "BASE_DATASET_DIR = os.path.join(\n",
        "    DRIVE_PROJECT_BASE_DIR , \"dataset\"\n",
        ")\n",
        "\n",
        "input_zipfile = os.path.join(\n",
        "    BASE_DATASET_DIR , \"amazonreviews.zip\"\n",
        ")"
      ],
      "execution_count": 0,
      "outputs": [
        {
          "output_type": "stream",
          "text": [
            "time: 4.64 ms\n"
          ],
          "name": "stdout"
        }
      ]
    },
    {
      "cell_type": "markdown",
      "metadata": {
        "id": "KDhu4lg2hvvU",
        "colab_type": "text"
      },
      "source": [
        "# Load Packages"
      ]
    },
    {
      "cell_type": "code",
      "metadata": {
        "id": "mre7XMqbhxX9",
        "colab_type": "code",
        "outputId": "c19258c3-2d9a-4c95-f3ac-331b914eb683",
        "colab": {
          "base_uri": "https://localhost:8080/",
          "height": 35
        }
      },
      "source": [
        "import matplotlib.pyplot as plt\n",
        "from tensorflow.python.keras import models, layers, optimizers\n",
        "import tensorflow\n",
        "from tensorflow.keras.preprocessing.text import Tokenizer, text_to_word_sequence\n",
        "from tensorflow.keras.preprocessing.sequence import pad_sequences\n",
        "import bz2\n",
        "from sklearn.metrics import f1_score, roc_auc_score, accuracy_score\n",
        "import re\n",
        "import numpy as np\n",
        "%matplotlib inline"
      ],
      "execution_count": 0,
      "outputs": [
        {
          "output_type": "stream",
          "text": [
            "time: 417 ms\n"
          ],
          "name": "stdout"
        }
      ]
    },
    {
      "cell_type": "markdown",
      "metadata": {
        "id": "LjGz0OM-hYfw",
        "colab_type": "text"
      },
      "source": [
        "# Data preparation"
      ]
    },
    {
      "cell_type": "markdown",
      "metadata": {
        "id": "gWXPtpPfhbeN",
        "colab_type": "text"
      },
      "source": [
        "## Unzip zip file"
      ]
    },
    {
      "cell_type": "code",
      "metadata": {
        "id": "BX5oim71gktM",
        "colab_type": "code",
        "outputId": "ba850d86-aabf-41ac-9de2-821b02ddaaf1",
        "colab": {
          "base_uri": "https://localhost:8080/",
          "height": 89
        }
      },
      "source": [
        "!unzip \"$input_zipfile\""
      ],
      "execution_count": 0,
      "outputs": [
        {
          "output_type": "stream",
          "text": [
            "Archive:  /content/gdrive/My Drive/deep_learning/text_sentiment_analysis/dataset/amazonreviews.zip\n",
            "  inflating: test.ft.txt.bz2         \n",
            "  inflating: train.ft.txt.bz2        \n",
            "time: 15.7 s\n"
          ],
          "name": "stdout"
        }
      ]
    },
    {
      "cell_type": "markdown",
      "metadata": {
        "id": "9MrKJNOwh8un",
        "colab_type": "text"
      },
      "source": [
        "## Reading the text\n",
        "\n",
        "The text is held in a compressed format. Luckily, we can still read it line by line. The first word gives the label, so we have to convert that into a number and then take the rest to be the comment."
      ]
    },
    {
      "cell_type": "code",
      "metadata": {
        "id": "ttKb1NyHiAnr",
        "colab_type": "code",
        "outputId": "4b60ed87-460b-464e-9a79-04af00a9f3de",
        "colab": {
          "base_uri": "https://localhost:8080/",
          "height": 35
        }
      },
      "source": [
        "def get_labels_and_texts(file):\n",
        "    labels = []\n",
        "    texts = []\n",
        "    for line in bz2.BZ2File(file):\n",
        "        x = line.decode(\"utf-8\")\n",
        "        labels.append(int(x[9]) - 1)\n",
        "        texts.append(x[10:].strip())\n",
        "    return np.array(labels), texts\n",
        "\n",
        "train_labels, train_texts = get_labels_and_texts('train.ft.txt.bz2')\n",
        "test_labels, test_texts   = get_labels_and_texts('test.ft.txt.bz2')"
      ],
      "execution_count": 0,
      "outputs": [
        {
          "output_type": "stream",
          "text": [
            "time: 1min 38s\n"
          ],
          "name": "stdout"
        }
      ]
    },
    {
      "cell_type": "markdown",
      "metadata": {
        "id": "DSdzQsVXjv2x",
        "colab_type": "text"
      },
      "source": [
        "## View data shape"
      ]
    },
    {
      "cell_type": "code",
      "metadata": {
        "id": "tv0EjDAkjyqY",
        "colab_type": "code",
        "outputId": "56754d3e-5cae-40a6-8d34-c15afc18f853",
        "colab": {
          "base_uri": "https://localhost:8080/",
          "height": 107
        }
      },
      "source": [
        "# Print shapes\n",
        "print(\"Shape of train_labels: {}\".format(train_labels.shape))\n",
        "print(\"length of train_texts: {}\".format(len(train_texts)))\n",
        "\n",
        "print(\"Shape of test_labels: {}\".format(test_labels.shape))\n",
        "print(\"length of test_texts: {}\".format(len(test_texts)))"
      ],
      "execution_count": 0,
      "outputs": [
        {
          "output_type": "stream",
          "text": [
            "Shape of train_labels: (3600000,)\n",
            "length of train_texts: 3600000\n",
            "Shape of test_labels: (400000,)\n",
            "length of test_texts: 400000\n",
            "time: 2.41 ms\n"
          ],
          "name": "stdout"
        }
      ]
    },
    {
      "cell_type": "markdown",
      "metadata": {
        "id": "KrQ5V1KulP8L",
        "colab_type": "text"
      },
      "source": [
        "# Text Preprocessing\n",
        "\n",
        "The first thing I'm going to do to process the text is to lowercase everything and then remove non-word characters. I replace these with spaces since most are going to be punctuation. Then I'm going to just remove any other characters (like letters with accents). It could be better to replace some of these with regular ascii characters but I'm just going to ignore that here. It also turns out if you look at the counts of the different characters that there are very few unusual characters in this corpus."
      ]
    },
    {
      "cell_type": "code",
      "metadata": {
        "id": "as7awfrxlbWL",
        "colab_type": "code",
        "outputId": "d7f8c6d6-6fca-4358-daa4-21bdf6cb974f",
        "colab": {
          "base_uri": "https://localhost:8080/",
          "height": 35
        }
      },
      "source": [
        "import re\n",
        "NON_ALPHANUM = re.compile(r'[\\W]')\n",
        "NON_ASCII = re.compile(r'[^a-z0-1\\s]')\n",
        "def normalize_texts(texts):\n",
        "    normalized_texts = []\n",
        "    for text in texts:\n",
        "        lower = text.lower()\n",
        "        no_punctuation = NON_ALPHANUM.sub(r' ', lower)\n",
        "        no_non_ascii = NON_ASCII.sub(r'', no_punctuation)\n",
        "        normalized_texts.append(no_non_ascii)\n",
        "    return normalized_texts\n",
        "        \n",
        "train_texts = normalize_texts(train_texts)\n",
        "test_texts = normalize_texts(test_texts)"
      ],
      "execution_count": 0,
      "outputs": [
        {
          "output_type": "stream",
          "text": [
            "time: 1min 38s\n"
          ],
          "name": "stdout"
        }
      ]
    },
    {
      "cell_type": "markdown",
      "metadata": {
        "id": "LFoYRZWGlxvI",
        "colab_type": "text"
      },
      "source": [
        "# Train/Validation Split\n",
        "Now I'm going to set aside 20% of the training set for validation."
      ]
    },
    {
      "cell_type": "code",
      "metadata": {
        "id": "cX__S_cyl0A6",
        "colab_type": "code",
        "outputId": "6c423fd8-92cc-4bb6-83f5-3138ab4f04f9",
        "colab": {
          "base_uri": "https://localhost:8080/",
          "height": 35
        }
      },
      "source": [
        "from sklearn.model_selection import train_test_split\n",
        "\n",
        "train_texts, val_texts, train_labels, val_labels = train_test_split(\n",
        "    train_texts, train_labels, random_state=57643892, test_size=0.2\n",
        "  )"
      ],
      "execution_count": 0,
      "outputs": [
        {
          "output_type": "stream",
          "text": [
            "time: 1.93 s\n"
          ],
          "name": "stdout"
        }
      ]
    },
    {
      "cell_type": "code",
      "metadata": {
        "id": "bIJMD-Bcl4aW",
        "colab_type": "code",
        "outputId": "399b1a6a-d56c-4006-e3b9-81b4f8b51c3b",
        "colab": {
          "base_uri": "https://localhost:8080/",
          "height": 107
        }
      },
      "source": [
        "print(\"Shape of train_labels: {}\".format(train_labels.shape))\n",
        "print(\"length of train_texts: {}\".format(len(train_texts)))\n",
        "\n",
        "print(\"Shape of val_labels: {}\".format(val_labels.shape))\n",
        "print(\"length of val_texts: {}\".format(len(val_texts)))"
      ],
      "execution_count": 0,
      "outputs": [
        {
          "output_type": "stream",
          "text": [
            "Shape of train_labels: (2880000,)\n",
            "length of train_texts: 2880000\n",
            "Shape of val_labels: (720000,)\n",
            "length of val_texts: 720000\n",
            "time: 196 ms\n"
          ],
          "name": "stdout"
        }
      ]
    },
    {
      "cell_type": "markdown",
      "metadata": {
        "id": "bJC2adXRm9RM",
        "colab_type": "text"
      },
      "source": [
        "viewing top 5 labels and first training text."
      ]
    },
    {
      "cell_type": "code",
      "metadata": {
        "id": "HYLzjM6Ll6Zb",
        "colab_type": "code",
        "outputId": "4d97a599-42f7-4766-e0c2-8d2077dc25cc",
        "colab": {
          "base_uri": "https://localhost:8080/",
          "height": 91
        }
      },
      "source": [
        "print(train_labels[:5])\n",
        "print(train_texts[:1])"
      ],
      "execution_count": 0,
      "outputs": [
        {
          "output_type": "stream",
          "text": [
            "[1 0 1 0 1]\n",
            "['don t miss it   i don t know if i ve ever been treated to such a full  rich  endearing story in so few words  only a couple hundred pages   and yet i felt as if i were visiting old friends for a long stay  i enjoyed this book immensely  but then  i m rapidly approaching  miss el s  age  so maybe that s why    ']\n",
            "time: 1.74 ms\n"
          ],
          "name": "stdout"
        }
      ]
    },
    {
      "cell_type": "markdown",
      "metadata": {
        "id": "QsGfPooUmnYU",
        "colab_type": "text"
      },
      "source": [
        "# Tokenization\n",
        "\n",
        "Now I will just run a Tokenizer using the top 12000 words as features."
      ]
    },
    {
      "cell_type": "code",
      "metadata": {
        "id": "7ee1ST07mly7",
        "colab_type": "code",
        "outputId": "0a8c7ff2-8bdf-4365-9946-cbabc42d3cfd",
        "colab": {
          "base_uri": "https://localhost:8080/",
          "height": 35
        }
      },
      "source": [
        "MAX_FEATURES = 12000\n",
        "tokenizer = Tokenizer(num_words=MAX_FEATURES)\n",
        "tokenizer.fit_on_texts(train_texts)\n",
        "\n",
        "train_texts = tokenizer.texts_to_sequences(train_texts)\n",
        "val_texts = tokenizer.texts_to_sequences(val_texts)\n",
        "test_texts = tokenizer.texts_to_sequences(test_texts)\n"
      ],
      "execution_count": 0,
      "outputs": [
        {
          "output_type": "stream",
          "text": [
            "time: 5min 33s\n"
          ],
          "name": "stdout"
        }
      ]
    },
    {
      "cell_type": "markdown",
      "metadata": {
        "id": "2Tp5yLKhnQfq",
        "colab_type": "text"
      },
      "source": [
        "# Padding Sequences\n",
        "In order to use batches effectively, I'm going to need to take my sequences and turn them into sequences of the same length. I'm just going to make everything here the length of the longest sentence in the training set. I'm not dealing with this here, but it may be advantageous to have variable lengths so that each batch contains sentences of similar lengths. This might help mitigate issues that arise from having too many padded elements in a sequence.\n"
      ]
    },
    {
      "cell_type": "code",
      "metadata": {
        "id": "UUcUFp70niAh",
        "colab_type": "code",
        "outputId": "0a3c48ec-1994-4ce9-8dfa-6d793189c272",
        "colab": {
          "base_uri": "https://localhost:8080/",
          "height": 35
        }
      },
      "source": [
        "MAX_LENGTH = max(len(train_ex) for train_ex in train_texts)\n",
        "\n",
        "train_texts = pad_sequences(train_texts, maxlen=MAX_LENGTH)\n",
        "val_texts = pad_sequences(val_texts, maxlen=MAX_LENGTH)\n",
        "test_texts = pad_sequences(test_texts, maxlen=MAX_LENGTH)"
      ],
      "execution_count": 0,
      "outputs": [
        {
          "output_type": "stream",
          "text": [
            "time: 39.2 s\n"
          ],
          "name": "stdout"
        }
      ]
    },
    {
      "cell_type": "markdown",
      "metadata": {
        "id": "AhQqTEvroLWw",
        "colab_type": "text"
      },
      "source": [
        "# Save Tokenizer"
      ]
    },
    {
      "cell_type": "code",
      "metadata": {
        "id": "skERo2ePoNsj",
        "colab_type": "code",
        "outputId": "6cdf2463-7a8f-43a5-dcf9-fc64213c1377",
        "colab": {
          "base_uri": "https://localhost:8080/",
          "height": 35
        }
      },
      "source": [
        "import pickle\n",
        "\n",
        "# saving\n",
        "tokenizer_info = {\n",
        "    \"tokenizer\"   : tokenizer,\n",
        "    \"MAX_LENGTH\"  : MAX_LENGTH,\n",
        "    \"MAX_FEATURES\": MAX_FEATURES,\n",
        "}\n",
        "with open('tokenizer_info.pickle', 'wb') as handle:\n",
        "    pickle.dump(tokenizer_info, handle, protocol=pickle.HIGHEST_PROTOCOL)"
      ],
      "execution_count": 0,
      "outputs": [
        {
          "output_type": "stream",
          "text": [
            "time: 928 ms\n"
          ],
          "name": "stdout"
        }
      ]
    },
    {
      "cell_type": "code",
      "metadata": {
        "id": "Vn9HpP_VnrQX",
        "colab_type": "code",
        "outputId": "5310c865-6f90-40db-91d4-5dd743cfd47a",
        "colab": {
          "base_uri": "https://localhost:8080/",
          "height": 71
        }
      },
      "source": [
        "# make some space\n",
        "del tokenizer\n",
        "\n",
        "import gc\n",
        "\n",
        "print(f\"total objects in memory --{gc.get_count()}\")\n",
        "\n",
        "# collecting memory\n",
        "gc.collect()\n",
        "print(f\"After garbage collecor- objects in memory --{gc.get_count()}\")"
      ],
      "execution_count": 0,
      "outputs": [
        {
          "output_type": "stream",
          "text": [
            "total objects in memory --(210, 2, 26)\n",
            "After garbage collecor- objects in memory --(25, 0, 0)\n",
            "time: 200 ms\n"
          ],
          "name": "stdout"
        }
      ]
    },
    {
      "cell_type": "markdown",
      "metadata": {
        "id": "kEJFgOTPpsy7",
        "colab_type": "text"
      },
      "source": [
        "# labels info"
      ]
    },
    {
      "cell_type": "code",
      "metadata": {
        "id": "DYIW_fG4psWx",
        "colab_type": "code",
        "outputId": "bbbccad1-fa9d-41bd-d7a5-a2efbdf9e0d8",
        "colab": {
          "base_uri": "https://localhost:8080/",
          "height": 53
        }
      },
      "source": [
        "labels_dict = {\n",
        "    \"negative\": 0,\n",
        "    \"positive\": 1,\n",
        "}\n",
        "num_classes = len(labels_dict.items())\n",
        "print(f\"num_classes : {num_classes}\")"
      ],
      "execution_count": 0,
      "outputs": [
        {
          "output_type": "stream",
          "text": [
            "num_classes : 2\n",
            "time: 1.96 ms\n"
          ],
          "name": "stdout"
        }
      ]
    },
    {
      "cell_type": "markdown",
      "metadata": {
        "id": "C1p1VQOOpb8c",
        "colab_type": "text"
      },
      "source": [
        "# convert to categorical data"
      ]
    },
    {
      "cell_type": "code",
      "metadata": {
        "id": "cS9lj8m0peg9",
        "colab_type": "code",
        "outputId": "fe67c51f-aaad-4a88-846b-bf05b830717b",
        "colab": {
          "base_uri": "https://localhost:8080/",
          "height": 107
        }
      },
      "source": [
        "from keras.utils import to_categorical\n",
        "\n",
        "train_y = to_categorical(train_labels, num_classes=num_classes, dtype='float32')\n",
        "test_y = to_categorical(test_labels, num_classes=num_classes, dtype='float32')\n",
        "val_y = to_categorical(val_labels, num_classes=num_classes, dtype='float32')\n",
        "\n",
        "# Print shapes\n",
        "print(\"Shape of train_y: {}\".format(train_y.shape))\n",
        "print(\"Shape of test_y: {}\".format(test_y.shape))\n",
        "print(\"Shape of val_y: {}\".format(val_y.shape))"
      ],
      "execution_count": 0,
      "outputs": [
        {
          "output_type": "stream",
          "text": [
            "Shape of train_y: (2880000, 2)\n",
            "Shape of test_y: (400000, 2)\n",
            "Shape of val_y: (720000, 2)\n",
            "time: 154 ms\n"
          ],
          "name": "stdout"
        },
        {
          "output_type": "stream",
          "text": [
            "Using TensorFlow backend.\n"
          ],
          "name": "stderr"
        }
      ]
    },
    {
      "cell_type": "markdown",
      "metadata": {
        "id": "kXDLRs_kv0rr",
        "colab_type": "text"
      },
      "source": [
        "view single record"
      ]
    },
    {
      "cell_type": "code",
      "metadata": {
        "id": "z_i1e2Nlv25Y",
        "colab_type": "code",
        "outputId": "8d5e545d-8978-4af6-c743-61fdbc1364a2",
        "colab": {
          "base_uri": "https://localhost:8080/",
          "height": 53
        }
      },
      "source": [
        "print(train_y[0])"
      ],
      "execution_count": 0,
      "outputs": [
        {
          "output_type": "stream",
          "text": [
            "[0. 1.]\n",
            "time: 2.19 ms\n"
          ],
          "name": "stdout"
        }
      ]
    },
    {
      "cell_type": "markdown",
      "metadata": {
        "id": "Y8_XLgBupHt7",
        "colab_type": "text"
      },
      "source": [
        "# Deep learning Models"
      ]
    },
    {
      "cell_type": "code",
      "metadata": {
        "id": "8QEP_V79rKi7",
        "colab_type": "code",
        "outputId": "335d99a8-1378-4883-dbb3-4435dfefc853",
        "colab": {
          "base_uri": "https://localhost:8080/",
          "height": 35
        }
      },
      "source": [
        "from keras.preprocessing.sequence import pad_sequences\n",
        "from keras.models import Sequential\n",
        "from keras.layers import Dense,GRU,LSTM,Embedding, CuDNNLSTM, CuDNNGRU\n",
        "from keras.optimizers import Adam\n",
        "from keras.layers import SpatialDropout1D,Dropout,Bidirectional,Conv1D,GlobalMaxPooling1D,MaxPooling1D,Flatten\n",
        "from keras.callbacks import ModelCheckpoint, TensorBoard, Callback, EarlyStopping\n",
        "\n",
        "from keras.preprocessing import sequence\n",
        "from keras.models import Sequential\n",
        "from keras.layers import Dense, Dropout, Activation\n",
        "from keras.layers import Embedding\n",
        "from keras.layers import Conv1D, GlobalMaxPooling1D"
      ],
      "execution_count": 0,
      "outputs": [
        {
          "output_type": "stream",
          "text": [
            "time: 6.34 ms\n"
          ],
          "name": "stdout"
        }
      ]
    },
    {
      "cell_type": "markdown",
      "metadata": {
        "id": "jyCG3Jo70KhX",
        "colab_type": "text"
      },
      "source": [
        "## Utilities"
      ]
    },
    {
      "cell_type": "markdown",
      "metadata": {
        "id": "cSFoQqC40WLp",
        "colab_type": "text"
      },
      "source": [
        "### Plotting accuracy and loss graph"
      ]
    },
    {
      "cell_type": "code",
      "metadata": {
        "id": "TzZsvtTN0NQD",
        "colab_type": "code",
        "outputId": "f7ba704d-d80d-4ce1-9cce-20c47e01cf48",
        "colab": {
          "base_uri": "https://localhost:8080/",
          "height": 35
        }
      },
      "source": [
        "import matplotlib.pyplot as plt\n",
        "\n",
        "def plot_accuracy_loss(history):\n",
        "  axes = plt.axes()\n",
        "  axes.set_ylim([0, 1])\n",
        "\n",
        "  # Plot training & validation accuracy values\n",
        "  plt.plot(history.history['accuracy'])\n",
        "  plt.plot(history.history['val_accuracy'])\n",
        "  plt.title('Model accuracy')\n",
        "  plt.ylabel('Accuracy')\n",
        "  plt.xlabel('Epoch')\n",
        "  plt.legend(['Train', 'Test'], loc='upper left')\n",
        "  plt.show()\n",
        "\n",
        "  # Plot training & validation loss values\n",
        "  axes = plt.axes()\n",
        "  # axes.set_ylim([0, 1])\n",
        "  plt.plot(history.history['loss'])\n",
        "  plt.plot(history.history['val_loss'])\n",
        "  plt.title('Model loss')\n",
        "  plt.ylabel('Loss')\n",
        "  plt.xlabel('Epoch')\n",
        "  plt.legend(['Train', 'Test'], loc='upper left')\n",
        "  plt.show()"
      ],
      "execution_count": 0,
      "outputs": [
        {
          "output_type": "stream",
          "text": [
            "time: 8.82 ms\n"
          ],
          "name": "stdout"
        }
      ]
    },
    {
      "cell_type": "markdown",
      "metadata": {
        "id": "8UIVIQlNqfFk",
        "colab_type": "text"
      },
      "source": [
        "## LSTM"
      ]
    },
    {
      "cell_type": "code",
      "metadata": {
        "id": "ai8Atg1JpHFZ",
        "colab_type": "code",
        "colab": {}
      },
      "source": [
        "embed_dim = 64\n",
        "\n",
        "model_LSTM = Sequential()\n",
        "model_LSTM.add(Embedding(MAX_FEATURES, embed_dim, input_length=MAX_LENGTH, mask_zero=True))\n",
        "model_LSTM.add(CuDNNLSTM(64,dropout=0.4,return_sequences=True))\n",
        "model_LSTM.add(CuDNNLSTM(32,dropout=0.5,return_sequences=False))\n",
        "model_LSTM.add(Dense(num_classes, activation='softmax'))\n",
        "model_LSTM.compile(loss = 'categorical_crossentropy', optimizer=Adam(lr = 0.001), metrics = ['accuracy'])\n",
        "model_LSTM.summary()"
      ],
      "execution_count": 0,
      "outputs": []
    },
    {
      "cell_type": "markdown",
      "metadata": {
        "id": "eZDrXq41nOiL",
        "colab_type": "text"
      },
      "source": [
        "### Callbacks"
      ]
    },
    {
      "cell_type": "code",
      "metadata": {
        "id": "JJSp5-l4nQCX",
        "colab_type": "code",
        "outputId": "1b963287-05f3-41cf-b47b-868c37663129",
        "colab": {
          "base_uri": "https://localhost:8080/",
          "height": 35
        }
      },
      "source": [
        "# Adding the callbacks\n",
        "from keras.callbacks import EarlyStopping, ModelCheckpoint\n",
        "\n",
        "checkpoint_path = \"lstm_model.best.hdf5\"\n",
        "\n",
        "# use early stopping to optimally terminate training through callbacks\n",
        "es = EarlyStopping(monitor='val_loss', mode='min', verbose=1, patience=2) # patience=3)\n",
        "\n",
        "# save best model automatically\n",
        "mc = ModelCheckpoint(\n",
        "    checkpoint_path, monitor='val_loss', \n",
        "    mode='min', verbose=1, save_best_only=True\n",
        ")\n",
        "cb_list = [es,mc]"
      ],
      "execution_count": 0,
      "outputs": [
        {
          "output_type": "stream",
          "text": [
            "time: 6.34 ms\n"
          ],
          "name": "stdout"
        }
      ]
    },
    {
      "cell_type": "markdown",
      "metadata": {
        "id": "2tzOuqNKnjEa",
        "colab_type": "text"
      },
      "source": [
        "### Train"
      ]
    },
    {
      "cell_type": "code",
      "metadata": {
        "id": "vMEwv3CVrr9G",
        "colab_type": "code",
        "outputId": "486002a5-a467-44b6-f2e6-0740c134c6a6",
        "colab": {
          "base_uri": "https://localhost:8080/",
          "height": 181
        }
      },
      "source": [
        "# Train model\n",
        "epochs = 25\n",
        "batch_size = 2048 # 64 # use more if gpu available - for faster processing \n",
        "history = model_LSTM.fit(\n",
        "    train_texts, train_y, \n",
        "    validation_data=(val_texts, val_y), \n",
        "    epochs=epochs, \n",
        "    batch_size=batch_size, \n",
        "    verbose=1, shuffle=True,\n",
        "    callbacks=cb_list,\n",
        ")"
      ],
      "execution_count": 0,
      "outputs": [
        {
          "output_type": "stream",
          "text": [
            "WARNING:tensorflow:From /usr/local/lib/python3.6/dist-packages/keras/backend/tensorflow_backend.py:422: The name tf.global_variables is deprecated. Please use tf.compat.v1.global_variables instead.\n",
            "\n",
            "Train on 2880000 samples, validate on 720000 samples\n",
            "Epoch 1/2\n",
            "2880000/2880000 [==============================] - 1778s 618us/step - loss: 0.2177 - accuracy: 0.9133 - val_loss: 0.1643 - val_accuracy: 0.9372\n",
            "Epoch 2/2\n",
            "2880000/2880000 [==============================] - 1796s 624us/step - loss: 0.1630 - accuracy: 0.9383 - val_loss: 0.1551 - val_accuracy: 0.9421\n",
            "time: 59min 41s\n"
          ],
          "name": "stdout"
        }
      ]
    },
    {
      "cell_type": "code",
      "metadata": {
        "id": "n2SXKvR-0pn7",
        "colab_type": "code",
        "outputId": "568c707d-df37-482a-a41c-3e24db938759",
        "colab": {
          "base_uri": "https://localhost:8080/",
          "height": 591
        }
      },
      "source": [
        "plot_accuracy_loss(history)"
      ],
      "execution_count": 0,
      "outputs": [
        {
          "output_type": "display_data",
          "data": {
            "image/png": "[encoded data removed]",
            "text/plain": [
              "<Figure size 432x288 with 1 Axes>"
            ]
          },
          "metadata": {
            "tags": [],
            "needs_background": "light"
          }
        },
        {
          "output_type": "display_data",
          "data": {
            "image/png": "[encoded data removed]",
            "text/plain": [
              "<Figure size 432x288 with 1 Axes>"
            ]
          },
          "metadata": {
            "tags": [],
            "needs_background": "light"
          }
        },
        {
          "output_type": "stream",
          "text": [
            "time: 438 ms\n"
          ],
          "name": "stdout"
        }
      ]
    },
    {
      "cell_type": "code",
      "metadata": {
        "id": "7DotRCDcz-Kx",
        "colab_type": "code",
        "outputId": "c6f0ee5c-f418-41c3-9cb6-26545f0e5d79",
        "colab": {
          "base_uri": "https://localhost:8080/",
          "height": 35
        }
      },
      "source": [
        "# preds = model_LSTM.predict(test_texts)\n",
        "\n",
        "# print('Accuracy score: {:0.4}'.format(accuracy_score(test_labels, 1 * (preds > 0.5))))\n",
        "# print('F1 score: {:0.4}'.format(f1_score(test_labels, 1 * (preds > 0.5))))\n",
        "# print('ROC AUC score: {:0.4}'.format(roc_auc_score(test_labels, preds)))"
      ],
      "execution_count": 0,
      "outputs": [
        {
          "output_type": "stream",
          "text": [
            "time: 827 µs\n"
          ],
          "name": "stdout"
        }
      ]
    },
    {
      "cell_type": "markdown",
      "metadata": {
        "id": "yrtftuHM2xo2",
        "colab_type": "text"
      },
      "source": [
        "## Convolutional Neural Net Model"
      ]
    },
    {
      "cell_type": "code",
      "metadata": {
        "id": "60Lllyzk2zGv",
        "colab_type": "code",
        "outputId": "e0f22323-bfd8-4c70-e586-4ff70100307f",
        "colab": {
          "base_uri": "https://localhost:8080/",
          "height": 521
        }
      },
      "source": [
        "# set parameters:\n",
        "filters = 250\n",
        "kernel_size = 3\n",
        "hidden_dims = 250\n",
        "\n",
        "model_cnn = Sequential()\n",
        "\n",
        "model_cnn.add(Embedding(MAX_FEATURES, embed_dim, input_length=MAX_LENGTH))\n",
        "model_cnn.add(Dropout(0.2))\n",
        "\n",
        "model_cnn.add(Conv1D(filters,\n",
        "                 kernel_size,\n",
        "                 padding='valid',\n",
        "                 activation='relu',\n",
        "                 strides=1))\n",
        "model_cnn.add(GlobalMaxPooling1D())\n",
        "\n",
        "model_cnn.add(Dense(hidden_dims))\n",
        "model_cnn.add(Dropout(0.2))\n",
        "model_cnn.add(Activation('relu'))\n",
        "\n",
        "model_cnn.add(Dense(num_classes))\n",
        "model_cnn.add(Activation('softmax'))\n",
        "\n",
        "model_cnn.compile(loss = 'categorical_crossentropy', optimizer=Adam(lr = 0.001), metrics = ['acc'])\n",
        "\n",
        "print(model_cnn.summary())"
      ],
      "execution_count": 0,
      "outputs": [
        {
          "output_type": "stream",
          "text": [
            "Model: \"sequential_9\"\n",
            "_________________________________________________________________\n",
            "Layer (type)                 Output Shape              Param #   \n",
            "=================================================================\n",
            "embedding_9 (Embedding)      (None, 255, 64)           768000    \n",
            "_________________________________________________________________\n",
            "dropout_14 (Dropout)         (None, 255, 64)           0         \n",
            "_________________________________________________________________\n",
            "conv1d_7 (Conv1D)            (None, 253, 250)          48250     \n",
            "_________________________________________________________________\n",
            "global_max_pooling1d_7 (Glob (None, 250)               0         \n",
            "_________________________________________________________________\n",
            "dense_14 (Dense)             (None, 250)               62750     \n",
            "_________________________________________________________________\n",
            "dropout_15 (Dropout)         (None, 250)               0         \n",
            "_________________________________________________________________\n",
            "activation_13 (Activation)   (None, 250)               0         \n",
            "_________________________________________________________________\n",
            "dense_15 (Dense)             (None, 2)                 502       \n",
            "_________________________________________________________________\n",
            "activation_14 (Activation)   (None, 2)                 0         \n",
            "=================================================================\n",
            "Total params: 879,502\n",
            "Trainable params: 879,502\n",
            "Non-trainable params: 0\n",
            "_________________________________________________________________\n",
            "None\n",
            "time: 194 ms\n"
          ],
          "name": "stdout"
        }
      ]
    },
    {
      "cell_type": "markdown",
      "metadata": {
        "id": "Ln1z7Y0h690R",
        "colab_type": "text"
      },
      "source": [
        "### Avoid wasting resources with EarlyStopping and ModelCheckpoint in Keras\n",
        "\n",
        "Training a neural network can take a lot of time. In some cases, especially with \n",
        "very deep architectures trained on very large data sets, it can take weeks before one’s model \n",
        "is finally trained.\n",
        "\n",
        "Unfortunately, setting a fixed number of epochs is often a bad idea. Here’s why:\n",
        "\n",
        "1.   When you use too few epochs, your model will remain underfit. What I mean is that its predictive power can still be improved without a loss of generalization power (i.e., it improves without overfitting). You will end up with a model that does not perform at its maximum capability.\n",
        "\n",
        "2.   When you use too many epochs, depending on how you configure the training process, your final model will either be optimized or it will be overfit. In both cases, you will have wasted resources. Hey, but why are those resources wasted when the final model is optimal? Simple – most likely, this optimum was found in e.g. 20% of the epochs you configured the model for. 80% of the resources you used are then wasted. Especially with highly expensive tasks in computational terms, you’ll want to avoid waste as much as you can.\n",
        "\n",
        "\n",
        "\n"
      ]
    },
    {
      "cell_type": "code",
      "metadata": {
        "id": "8F9AWAJt5S6C",
        "colab_type": "code",
        "outputId": "dfefb53a-b154-46ca-ba9f-73993994bf8f",
        "colab": {
          "base_uri": "https://localhost:8080/",
          "height": 35
        }
      },
      "source": [
        "# Adding the callbacks\n",
        "from keras.callbacks import EarlyStopping, ModelCheckpoint\n",
        "\n",
        "checkpoint_path = \"cnn_model.best.hdf5\"\n",
        "\n",
        "# use early stopping to optimally terminate training through callbacks\n",
        "es = EarlyStopping(monitor='val_loss', mode='min', verbose=1, patience=2) # patience=3)\n",
        "\n",
        "# save best model automatically\n",
        "mc = ModelCheckpoint(\n",
        "    checkpoint_path, monitor='val_loss', \n",
        "    mode='min', verbose=1, save_best_only=True\n",
        ")\n",
        "cb_list = [es,mc]"
      ],
      "execution_count": 0,
      "outputs": [
        {
          "output_type": "stream",
          "text": [
            "time: 4.53 ms\n"
          ],
          "name": "stdout"
        }
      ]
    },
    {
      "cell_type": "markdown",
      "metadata": {
        "id": "EovkzEzS7WsG",
        "colab_type": "text"
      },
      "source": [
        "### Start training"
      ]
    },
    {
      "cell_type": "code",
      "metadata": {
        "id": "lsyR8HNEJw0k",
        "colab_type": "code",
        "outputId": "ade2ad76-b43b-4c52-ecd5-b9d3cd2e0e5c",
        "colab": {
          "base_uri": "https://localhost:8080/",
          "height": 451
        }
      },
      "source": [
        "# Train model\n",
        "epochs = 25\n",
        "batch_size = 2048 # 64 # use more if gpu available - for faster processing \n",
        "history = model_cnn.fit(\n",
        "    train_texts, train_y,\n",
        "    validation_data=(val_texts, val_y), \n",
        "    epochs=epochs, \n",
        "    batch_size=batch_size,\n",
        "    verbose=1,shuffle=True,\n",
        "    callbacks=cb_list,\n",
        "    \n",
        ")"
      ],
      "execution_count": 0,
      "outputs": [
        {
          "output_type": "stream",
          "text": [
            "Train on 2880000 samples, validate on 720000 samples\n",
            "Epoch 1/25\n",
            "2880000/2880000 [==============================] - 349s 121us/step - loss: 0.1858 - acc: 0.9258 - val_loss: 0.1575 - val_acc: 0.9402\n",
            "\n",
            "Epoch 00001: val_loss improved from inf to 0.15755, saving model to cnn_model.best.hdf5\n",
            "Epoch 2/25\n",
            "2880000/2880000 [==============================] - 349s 121us/step - loss: 0.1456 - acc: 0.9456 - val_loss: 0.1431 - val_acc: 0.9466\n",
            "\n",
            "Epoch 00002: val_loss improved from 0.15755 to 0.14307, saving model to cnn_model.best.hdf5\n",
            "Epoch 3/25\n",
            "2880000/2880000 [==============================] - 349s 121us/step - loss: 0.1355 - acc: 0.9497 - val_loss: 0.1413 - val_acc: 0.9470\n",
            "\n",
            "Epoch 00003: val_loss improved from 0.14307 to 0.14127, saving model to cnn_model.best.hdf5\n",
            "Epoch 4/25\n",
            "2880000/2880000 [==============================] - 348s 121us/step - loss: 0.1290 - acc: 0.9524 - val_loss: 0.1420 - val_acc: 0.9468\n",
            "\n",
            "Epoch 00004: val_loss did not improve from 0.14127\n",
            "Epoch 5/25\n",
            "2880000/2880000 [==============================] - 348s 121us/step - loss: 0.1237 - acc: 0.9545 - val_loss: 0.1438 - val_acc: 0.9466\n",
            "\n",
            "Epoch 00005: val_loss did not improve from 0.14127\n",
            "Epoch 00005: early stopping\n",
            "time: 29min 4s\n"
          ],
          "name": "stdout"
        }
      ]
    },
    {
      "cell_type": "code",
      "metadata": {
        "id": "-4GbFISA8m4Y",
        "colab_type": "code",
        "outputId": "9b715e85-00e0-4c69-b9d3-b3d52fa77c39",
        "colab": {
          "base_uri": "https://localhost:8080/",
          "height": 591
        }
      },
      "source": [
        "plot_accuracy_loss(history)"
      ],
      "execution_count": 0,
      "outputs": [
        {
          "output_type": "display_data",
          "data": {
            "image/png": "[encoded data removed]",
            "text/plain": [
              "<Figure size 432x288 with 1 Axes>"
            ]
          },
          "metadata": {
            "tags": [],
            "needs_background": "light"
          }
        },
        {
          "output_type": "display_data",
          "data": {
            "image/png": "[encoded data removed]",
            "text/plain": [
              "<Figure size 432x288 with 1 Axes>"
            ]
          },
          "metadata": {
            "tags": [],
            "needs_background": "light"
          }
        },
        {
          "output_type": "stream",
          "text": [
            "time: 416 ms\n"
          ],
          "name": "stdout"
        }
      ]
    },
    {
      "cell_type": "markdown",
      "metadata": {
        "id": "5pvZMGLL-AAg",
        "colab_type": "text"
      },
      "source": [
        "## GRU"
      ]
    },
    {
      "cell_type": "code",
      "metadata": {
        "id": "oF9Yjw-V-Cfc",
        "colab_type": "code",
        "outputId": "533eeb95-19a4-468f-9260-43820be05a3a",
        "colab": {
          "base_uri": "https://localhost:8080/",
          "height": 163
        }
      },
      "source": [
        "def build_gru_model():\n",
        "    sequences = layers.Input(shape=(MAX_LENGTH,))\n",
        "    embedded = layers.Embedding(MAX_FEATURES, 64)(sequences)\n",
        "    x = layers.CuDNNGRU(128, return_sequences=True)(embedded)\n",
        "    x = layers.CuDNNGRU(128)(x)\n",
        "    x = layers.Dense(32, activation='relu')(x)\n",
        "    x = layers.Dense(100, activation='relu')(x)\n",
        "    predictions = layers.Dense(num_classes, activation='softmax')(x)\n",
        "    model = models.Model(inputs=sequences, outputs=predictions)\n",
        "    model.compile(\n",
        "        loss='categorical_crossentropy',\n",
        "        optimizer='adam',\n",
        "        metrics=['accuracy']\n",
        "    )\n",
        "    return model\n",
        "    \n",
        "gru_model = build_gru_model()"
      ],
      "execution_count": 0,
      "outputs": [
        {
          "output_type": "stream",
          "text": [
            "WARNING:tensorflow:From /tensorflow-1.15.2/python3.6/tensorflow_core/python/keras/initializers.py:119: calling RandomUniform.__init__ (from tensorflow.python.ops.init_ops) with dtype is deprecated and will be removed in a future version.\n",
            "Instructions for updating:\n",
            "Call initializer instance with the dtype argument instead of passing it to the constructor\n",
            "WARNING:tensorflow:From /tensorflow-1.15.2/python3.6/tensorflow_core/python/ops/resource_variable_ops.py:1630: calling BaseResourceVariable.__init__ (from tensorflow.python.ops.resource_variable_ops) with constraint is deprecated and will be removed in a future version.\n",
            "Instructions for updating:\n",
            "If using Keras pass *_constraint arguments to layers.\n",
            "time: 307 ms\n"
          ],
          "name": "stdout"
        }
      ]
    },
    {
      "cell_type": "markdown",
      "metadata": {
        "colab_type": "text",
        "id": "_KAXRWxcV7Vh"
      },
      "source": [
        "### Avoid wasting resources with EarlyStopping and ModelCheckpoint in Keras\n",
        "\n",
        "Training a neural network can take a lot of time. In some cases, especially with \n",
        "very deep architectures trained on very large data sets, it can take weeks before one’s model \n",
        "is finally trained.\n",
        "\n",
        "Unfortunately, setting a fixed number of epochs is often a bad idea. Here’s why:\n",
        "\n",
        "1.   When you use too few epochs, your model will remain underfit. What I mean is that its predictive power can still be improved without a loss of generalization power (i.e., it improves without overfitting). You will end up with a model that does not perform at its maximum capability.\n",
        "\n",
        "2.   When you use too many epochs, depending on how you configure the training process, your final model will either be optimized or it will be overfit. In both cases, you will have wasted resources. Hey, but why are those resources wasted when the final model is optimal? Simple – most likely, this optimum was found in e.g. 20% of the epochs you configured the model for. 80% of the resources you used are then wasted. Especially with highly expensive tasks in computational terms, you’ll want to avoid waste as much as you can.\n",
        "\n",
        "\n",
        "\n"
      ]
    },
    {
      "cell_type": "code",
      "metadata": {
        "colab_type": "code",
        "outputId": "25fc80d3-b427-44b6-8691-2dcacc4edf3e",
        "id": "cJ5KRlPRV7Vl",
        "colab": {
          "base_uri": "https://localhost:8080/",
          "height": 35
        }
      },
      "source": [
        "# Adding the callbacks\n",
        "from keras.callbacks import EarlyStopping, ModelCheckpoint\n",
        "\n",
        "checkpoint_path = \"gru_model.best.hdf5\"\n",
        "\n",
        "# use early stopping to optimally terminate training through callbacks\n",
        "es = EarlyStopping(monitor='val_loss', mode='min', verbose=1, patience=2) # patience=3)\n",
        "\n",
        "# save best model automatically\n",
        "mc = ModelCheckpoint(\n",
        "    checkpoint_path, monitor='val_loss', \n",
        "    mode='min', verbose=1, save_best_only=True\n",
        ")\n",
        "cb_list = [es,mc]"
      ],
      "execution_count": 0,
      "outputs": [
        {
          "output_type": "stream",
          "text": [
            "time: 3.28 ms\n"
          ],
          "name": "stdout"
        }
      ]
    },
    {
      "cell_type": "markdown",
      "metadata": {
        "id": "3dYU3gYvV8rA",
        "colab_type": "text"
      },
      "source": [
        "### Train"
      ]
    },
    {
      "cell_type": "code",
      "metadata": {
        "id": "H0uCYxaK-Ibi",
        "colab_type": "code",
        "outputId": "bdb80de9-f827-4e95-97ed-5477d59a7a07",
        "colab": {
          "base_uri": "https://localhost:8080/",
          "height": 523
        }
      },
      "source": [
        "epochs = 25\n",
        "batch_size = 2048 # 128 # use more if gpu available - for faster processing \n",
        "\n",
        "history = gru_model.fit(\n",
        "    train_texts, \n",
        "    train_y, \n",
        "    validation_data=(val_texts, val_y),\n",
        "    batch_size=batch_size,\n",
        "    epochs=epochs,\n",
        "    callbacks=cb_list,\n",
        ")"
      ],
      "execution_count": 0,
      "outputs": [
        {
          "output_type": "stream",
          "text": [
            "Train on 2880000 samples, validate on 720000 samples\n",
            "Epoch 1/25\n",
            "2879488/2880000 [============================>.] - ETA: 0s - loss: 0.2411 - acc: 0.9002\n",
            "Epoch 00001: val_loss improved from inf to 0.17055, saving model to gru_model.best.hdf5\n",
            "2880000/2880000 [==============================] - 282s 98us/sample - loss: 0.2411 - acc: 0.9002 - val_loss: 0.1705 - val_acc: 0.9345\n",
            "Epoch 2/25\n",
            "2879488/2880000 [============================>.] - ETA: 0s - loss: 0.1527 - acc: 0.9421\n",
            "Epoch 00002: val_loss improved from 0.17055 to 0.14378, saving model to gru_model.best.hdf5\n",
            "2880000/2880000 [==============================] - 264s 92us/sample - loss: 0.1527 - acc: 0.9421 - val_loss: 0.1438 - val_acc: 0.9459\n",
            "Epoch 3/25\n",
            "2879488/2880000 [============================>.] - ETA: 0s - loss: 0.1346 - acc: 0.9497\n",
            "Epoch 00003: val_loss improved from 0.14378 to 0.13864, saving model to gru_model.best.hdf5\n",
            "2880000/2880000 [==============================] - 267s 93us/sample - loss: 0.1346 - acc: 0.9497 - val_loss: 0.1386 - val_acc: 0.9480\n",
            "Epoch 4/25\n",
            "2879488/2880000 [============================>.] - ETA: 0s - loss: 0.1247 - acc: 0.9539\n",
            "Epoch 00004: val_loss improved from 0.13864 to 0.13264, saving model to gru_model.best.hdf5\n",
            "2880000/2880000 [==============================] - 262s 91us/sample - loss: 0.1247 - acc: 0.9539 - val_loss: 0.1326 - val_acc: 0.9503\n",
            "Epoch 5/25\n",
            "2879488/2880000 [============================>.] - ETA: 0s - loss: 0.1165 - acc: 0.9574\n",
            "Epoch 00005: val_loss did not improve from 0.13264\n",
            "2880000/2880000 [==============================] - 266s 92us/sample - loss: 0.1165 - acc: 0.9574 - val_loss: 0.1335 - val_acc: 0.9504\n",
            "Epoch 6/25\n",
            "2879488/2880000 [============================>.] - ETA: 0s - loss: 0.1091 - acc: 0.9606\n",
            "Epoch 00006: val_loss did not improve from 0.13264\n",
            "2880000/2880000 [==============================] - 269s 93us/sample - loss: 0.1091 - acc: 0.9606 - val_loss: 0.1332 - val_acc: 0.9514\n",
            "Epoch 00006: early stopping\n"
          ],
          "name": "stdout"
        },
        {
          "output_type": "execute_result",
          "data": {
            "text/plain": [
              "<tensorflow.python.keras.callbacks.History at 0x7f6bf9ebc2b0>"
            ]
          },
          "metadata": {
            "tags": []
          },
          "execution_count": 25
        },
        {
          "output_type": "stream",
          "text": [
            "time: 26min 56s\n"
          ],
          "name": "stdout"
        }
      ]
    },
    {
      "cell_type": "code",
      "metadata": {
        "id": "_CkStWUgCrOF",
        "colab_type": "code",
        "colab": {}
      },
      "source": [
        "plot_accuracy_loss(history)"
      ],
      "execution_count": 0,
      "outputs": []
    },
    {
      "cell_type": "markdown",
      "metadata": {
        "id": "v40BIR1CU9s-",
        "colab_type": "text"
      },
      "source": [
        "## Bidirectional-GRU"
      ]
    },
    {
      "cell_type": "code",
      "metadata": {
        "id": "wLRyUjNKaXDD",
        "colab_type": "code",
        "outputId": "86237805-460c-4a20-a737-efa4cb662695",
        "colab": {
          "base_uri": "https://localhost:8080/",
          "height": 35
        }
      },
      "source": [
        "embed_dim = 64\n",
        "\n",
        "def build_bidirectional_gru():\n",
        "\tmodel = Sequential()\n",
        "\tmodel.add(Embedding(MAX_FEATURES, embed_dim, input_length=MAX_LENGTH))\n",
        "\tmodel.add(SpatialDropout1D(0.25))\n",
        "\tmodel.add(Bidirectional(CuDNNGRU(64,dropout=0.4, return_sequences = True)))\n",
        "\tmodel.add(Bidirectional(CuDNNGRU(32,dropout=0.5, return_sequences = False)))\n",
        "\tmodel.add(Dense(num_classes, activation='softmax'))\n",
        "\tmodel.compile(\n",
        "\t\tloss = 'categorical_crossentropy', optimizer=Adam(lr = 0.001), \n",
        "\t\tmetrics = ['accuracy']\n",
        "\t)\n",
        "\treturn model\n",
        "\t\n",
        "bidirectional_gru_model = build_bidirectional_gru()"
      ],
      "execution_count": 0,
      "outputs": [
        {
          "output_type": "stream",
          "text": [
            "time: 972 ms\n"
          ],
          "name": "stdout"
        }
      ]
    },
    {
      "cell_type": "markdown",
      "metadata": {
        "colab_type": "text",
        "id": "c-LAR4JzWPGv"
      },
      "source": [
        "### Avoid wasting resources with EarlyStopping and ModelCheckpoint in Keras\n",
        "\n",
        "Training a neural network can take a lot of time. In some cases, especially with \n",
        "very deep architectures trained on very large data sets, it can take weeks before one’s model \n",
        "is finally trained.\n",
        "\n",
        "Unfortunately, setting a fixed number of epochs is often a bad idea. Here’s why:\n",
        "\n",
        "1.   When you use too few epochs, your model will remain underfit. What I mean is that its predictive power can still be improved without a loss of generalization power (i.e., it improves without overfitting). You will end up with a model that does not perform at its maximum capability.\n",
        "\n",
        "2.   When you use too many epochs, depending on how you configure the training process, your final model will either be optimized or it will be overfit. In both cases, you will have wasted resources. Hey, but why are those resources wasted when the final model is optimal? Simple – most likely, this optimum was found in e.g. 20% of the epochs you configured the model for. 80% of the resources you used are then wasted. Especially with highly expensive tasks in computational terms, you’ll want to avoid waste as much as you can.\n",
        "\n",
        "\n",
        "\n"
      ]
    },
    {
      "cell_type": "code",
      "metadata": {
        "colab_type": "code",
        "outputId": "7378f0c9-a53e-4cd3-8086-cb9c9d566cd7",
        "id": "GdA4sWYcWPGy",
        "colab": {
          "base_uri": "https://localhost:8080/",
          "height": 35
        }
      },
      "source": [
        "# Adding the callbacks\n",
        "from keras.callbacks import EarlyStopping, ModelCheckpoint\n",
        "\n",
        "checkpoint_path = \"bidirectional_gru_model.best.hdf5\"\n",
        "\n",
        "# use early stopping to optimally terminate training through callbacks\n",
        "es = EarlyStopping(monitor='val_loss', mode='min', verbose=1, patience=2) # patience=3)\n",
        "\n",
        "# save best model automatically\n",
        "mc = ModelCheckpoint(\n",
        "    checkpoint_path, monitor='val_loss', \n",
        "    mode='min', verbose=1, save_best_only=True\n",
        ")\n",
        "cb_list = [es,mc]"
      ],
      "execution_count": 0,
      "outputs": [
        {
          "output_type": "stream",
          "text": [
            "time: 2.32 ms\n"
          ],
          "name": "stdout"
        }
      ]
    },
    {
      "cell_type": "markdown",
      "metadata": {
        "id": "f463iCS5WYRG",
        "colab_type": "text"
      },
      "source": [
        "### Train"
      ]
    },
    {
      "cell_type": "code",
      "metadata": {
        "id": "HXwIB0XTakpj",
        "colab_type": "code",
        "outputId": "2d5cc42d-6cf9-4e17-ee66-70a3bc63dc94",
        "colab": {
          "base_uri": "https://localhost:8080/",
          "height": 1000
        }
      },
      "source": [
        "epochs = 25\n",
        "batch_size = 2048 # 128 # use more if gpu available - for faster processing \n",
        "\n",
        "history = bidirectional_gru_model.fit(\n",
        "    train_texts, \n",
        "    train_y, \n",
        "    batch_size=batch_size,\n",
        "    epochs=epochs,\n",
        "    validation_data=(val_texts, val_y),\n",
        "    callbacks=cb_list,\n",
        ")"
      ],
      "execution_count": 30,
      "outputs": [
        {
          "output_type": "stream",
          "text": [
            "WARNING:tensorflow:From /usr/local/lib/python3.6/dist-packages/keras/backend/tensorflow_backend.py:422: The name tf.global_variables is deprecated. Please use tf.compat.v1.global_variables instead.\n",
            "\n",
            "Train on 2880000 samples, validate on 720000 samples\n",
            "Epoch 1/10\n",
            "2880000/2880000 [==============================] - 1688s 586us/step - loss: 0.2190 - accuracy: 0.9120 - val_loss: 0.1605 - val_accuracy: 0.9389\n",
            "\n",
            "Epoch 00001: val_loss improved from inf to 0.16055, saving model to bidirectional_gru_model.best.hdf5\n",
            "Epoch 2/10\n",
            "2880000/2880000 [==============================] - 1646s 571us/step - loss: 0.1589 - accuracy: 0.9396 - val_loss: 0.1479 - val_accuracy: 0.9443\n",
            "\n",
            "Epoch 00002: val_loss improved from 0.16055 to 0.14787, saving model to bidirectional_gru_model.best.hdf5\n",
            "Epoch 3/10\n",
            "2880000/2880000 [==============================] - 1581s 549us/step - loss: 0.1474 - accuracy: 0.9445 - val_loss: 0.1416 - val_accuracy: 0.9471\n",
            "\n",
            "Epoch 00003: val_loss improved from 0.14787 to 0.14164, saving model to bidirectional_gru_model.best.hdf5\n",
            "Epoch 4/10\n",
            "2880000/2880000 [==============================] - 1584s 550us/step - loss: 0.1409 - accuracy: 0.9472 - val_loss: 0.1394 - val_accuracy: 0.9481\n",
            "\n",
            "Epoch 00004: val_loss improved from 0.14164 to 0.13943, saving model to bidirectional_gru_model.best.hdf5\n",
            "Epoch 5/10\n",
            "2880000/2880000 [==============================] - 1582s 549us/step - loss: 0.1364 - accuracy: 0.9491 - val_loss: 0.1379 - val_accuracy: 0.9488\n",
            "\n",
            "Epoch 00005: val_loss improved from 0.13943 to 0.13792, saving model to bidirectional_gru_model.best.hdf5\n",
            "Epoch 6/10\n",
            "2880000/2880000 [==============================] - 1582s 549us/step - loss: 0.1330 - accuracy: 0.9505 - val_loss: 0.1362 - val_accuracy: 0.9505\n",
            "\n",
            "Epoch 00006: val_loss improved from 0.13792 to 0.13617, saving model to bidirectional_gru_model.best.hdf5\n",
            "Epoch 7/10\n",
            "2880000/2880000 [==============================] - 1580s 549us/step - loss: 0.1302 - accuracy: 0.9517 - val_loss: 0.1326 - val_accuracy: 0.9510\n",
            "\n",
            "Epoch 00007: val_loss improved from 0.13617 to 0.13257, saving model to bidirectional_gru_model.best.hdf5\n",
            "Epoch 8/10\n",
            "2880000/2880000 [==============================] - 1583s 550us/step - loss: 0.1279 - accuracy: 0.9527 - val_loss: 0.1308 - val_accuracy: 0.9513\n",
            "\n",
            "Epoch 00008: val_loss improved from 0.13257 to 0.13083, saving model to bidirectional_gru_model.best.hdf5\n",
            "Epoch 9/10\n",
            "2880000/2880000 [==============================] - 1603s 556us/step - loss: 0.1256 - accuracy: 0.9535 - val_loss: 0.1317 - val_accuracy: 0.9518\n",
            "\n",
            "Epoch 00009: val_loss did not improve from 0.13083\n",
            "Epoch 10/10\n",
            "  75776/2880000 [..............................] - ETA: 23:39 - loss: 0.1215 - accuracy: 0.9551"
          ],
          "name": "stdout"
        },
        {
          "output_type": "error",
          "ename": "KeyboardInterrupt",
          "evalue": "ignored",
          "traceback": [
            "\u001b[0;31m---------------------------------------------------------------------------\u001b[0m",
            "\u001b[0;31mKeyboardInterrupt\u001b[0m                         Traceback (most recent call last)",
            "\u001b[0;32m<ipython-input-30-30dacd2ab703>\u001b[0m in \u001b[0;36m<module>\u001b[0;34m()\u001b[0m\n\u001b[1;32m      8\u001b[0m     \u001b[0mepochs\u001b[0m\u001b[0;34m=\u001b[0m\u001b[0mepochs\u001b[0m\u001b[0;34m,\u001b[0m\u001b[0;34m\u001b[0m\u001b[0;34m\u001b[0m\u001b[0m\n\u001b[1;32m      9\u001b[0m     \u001b[0mvalidation_data\u001b[0m\u001b[0;34m=\u001b[0m\u001b[0;34m(\u001b[0m\u001b[0mval_texts\u001b[0m\u001b[0;34m,\u001b[0m \u001b[0mval_y\u001b[0m\u001b[0;34m)\u001b[0m\u001b[0;34m,\u001b[0m\u001b[0;34m\u001b[0m\u001b[0;34m\u001b[0m\u001b[0m\n\u001b[0;32m---> 10\u001b[0;31m     \u001b[0mcallbacks\u001b[0m\u001b[0;34m=\u001b[0m\u001b[0mcb_list\u001b[0m\u001b[0;34m,\u001b[0m\u001b[0;34m\u001b[0m\u001b[0;34m\u001b[0m\u001b[0m\n\u001b[0m\u001b[1;32m     11\u001b[0m )\n",
            "\u001b[0;32m/usr/local/lib/python3.6/dist-packages/keras/engine/training.py\u001b[0m in \u001b[0;36mfit\u001b[0;34m(self, x, y, batch_size, epochs, verbose, callbacks, validation_split, validation_data, shuffle, class_weight, sample_weight, initial_epoch, steps_per_epoch, validation_steps, validation_freq, max_queue_size, workers, use_multiprocessing, **kwargs)\u001b[0m\n\u001b[1;32m   1237\u001b[0m                                         \u001b[0msteps_per_epoch\u001b[0m\u001b[0;34m=\u001b[0m\u001b[0msteps_per_epoch\u001b[0m\u001b[0;34m,\u001b[0m\u001b[0;34m\u001b[0m\u001b[0;34m\u001b[0m\u001b[0m\n\u001b[1;32m   1238\u001b[0m                                         \u001b[0mvalidation_steps\u001b[0m\u001b[0;34m=\u001b[0m\u001b[0mvalidation_steps\u001b[0m\u001b[0;34m,\u001b[0m\u001b[0;34m\u001b[0m\u001b[0;34m\u001b[0m\u001b[0m\n\u001b[0;32m-> 1239\u001b[0;31m                                         validation_freq=validation_freq)\n\u001b[0m\u001b[1;32m   1240\u001b[0m \u001b[0;34m\u001b[0m\u001b[0m\n\u001b[1;32m   1241\u001b[0m     def evaluate(self,\n",
            "\u001b[0;32m/usr/local/lib/python3.6/dist-packages/keras/engine/training_arrays.py\u001b[0m in \u001b[0;36mfit_loop\u001b[0;34m(model, fit_function, fit_inputs, out_labels, batch_size, epochs, verbose, callbacks, val_function, val_inputs, shuffle, initial_epoch, steps_per_epoch, validation_steps, validation_freq)\u001b[0m\n\u001b[1;32m    194\u001b[0m                     \u001b[0mins_batch\u001b[0m\u001b[0;34m[\u001b[0m\u001b[0mi\u001b[0m\u001b[0;34m]\u001b[0m \u001b[0;34m=\u001b[0m \u001b[0mins_batch\u001b[0m\u001b[0;34m[\u001b[0m\u001b[0mi\u001b[0m\u001b[0;34m]\u001b[0m\u001b[0;34m.\u001b[0m\u001b[0mtoarray\u001b[0m\u001b[0;34m(\u001b[0m\u001b[0;34m)\u001b[0m\u001b[0;34m\u001b[0m\u001b[0;34m\u001b[0m\u001b[0m\n\u001b[1;32m    195\u001b[0m \u001b[0;34m\u001b[0m\u001b[0m\n\u001b[0;32m--> 196\u001b[0;31m                 \u001b[0mouts\u001b[0m \u001b[0;34m=\u001b[0m \u001b[0mfit_function\u001b[0m\u001b[0;34m(\u001b[0m\u001b[0mins_batch\u001b[0m\u001b[0;34m)\u001b[0m\u001b[0;34m\u001b[0m\u001b[0;34m\u001b[0m\u001b[0m\n\u001b[0m\u001b[1;32m    197\u001b[0m                 \u001b[0mouts\u001b[0m \u001b[0;34m=\u001b[0m \u001b[0mto_list\u001b[0m\u001b[0;34m(\u001b[0m\u001b[0mouts\u001b[0m\u001b[0;34m)\u001b[0m\u001b[0;34m\u001b[0m\u001b[0;34m\u001b[0m\u001b[0m\n\u001b[1;32m    198\u001b[0m                 \u001b[0;32mfor\u001b[0m \u001b[0ml\u001b[0m\u001b[0;34m,\u001b[0m \u001b[0mo\u001b[0m \u001b[0;32min\u001b[0m \u001b[0mzip\u001b[0m\u001b[0;34m(\u001b[0m\u001b[0mout_labels\u001b[0m\u001b[0;34m,\u001b[0m \u001b[0mouts\u001b[0m\u001b[0;34m)\u001b[0m\u001b[0;34m:\u001b[0m\u001b[0;34m\u001b[0m\u001b[0;34m\u001b[0m\u001b[0m\n",
            "\u001b[0;32m/tensorflow-1.15.2/python3.6/tensorflow_core/python/keras/backend.py\u001b[0m in \u001b[0;36m__call__\u001b[0;34m(self, inputs)\u001b[0m\n\u001b[1;32m   3474\u001b[0m \u001b[0;34m\u001b[0m\u001b[0m\n\u001b[1;32m   3475\u001b[0m     fetched = self._callable_fn(*array_vals,\n\u001b[0;32m-> 3476\u001b[0;31m                                 run_metadata=self.run_metadata)\n\u001b[0m\u001b[1;32m   3477\u001b[0m     \u001b[0mself\u001b[0m\u001b[0;34m.\u001b[0m\u001b[0m_call_fetch_callbacks\u001b[0m\u001b[0;34m(\u001b[0m\u001b[0mfetched\u001b[0m\u001b[0;34m[\u001b[0m\u001b[0;34m-\u001b[0m\u001b[0mlen\u001b[0m\u001b[0;34m(\u001b[0m\u001b[0mself\u001b[0m\u001b[0;34m.\u001b[0m\u001b[0m_fetches\u001b[0m\u001b[0;34m)\u001b[0m\u001b[0;34m:\u001b[0m\u001b[0;34m]\u001b[0m\u001b[0;34m)\u001b[0m\u001b[0;34m\u001b[0m\u001b[0;34m\u001b[0m\u001b[0m\n\u001b[1;32m   3478\u001b[0m     output_structure = nest.pack_sequence_as(\n",
            "\u001b[0;32m/tensorflow-1.15.2/python3.6/tensorflow_core/python/client/session.py\u001b[0m in \u001b[0;36m__call__\u001b[0;34m(self, *args, **kwargs)\u001b[0m\n\u001b[1;32m   1470\u001b[0m         ret = tf_session.TF_SessionRunCallable(self._session._session,\n\u001b[1;32m   1471\u001b[0m                                                \u001b[0mself\u001b[0m\u001b[0;34m.\u001b[0m\u001b[0m_handle\u001b[0m\u001b[0;34m,\u001b[0m \u001b[0margs\u001b[0m\u001b[0;34m,\u001b[0m\u001b[0;34m\u001b[0m\u001b[0;34m\u001b[0m\u001b[0m\n\u001b[0;32m-> 1472\u001b[0;31m                                                run_metadata_ptr)\n\u001b[0m\u001b[1;32m   1473\u001b[0m         \u001b[0;32mif\u001b[0m \u001b[0mrun_metadata\u001b[0m\u001b[0;34m:\u001b[0m\u001b[0;34m\u001b[0m\u001b[0;34m\u001b[0m\u001b[0m\n\u001b[1;32m   1474\u001b[0m           \u001b[0mproto_data\u001b[0m \u001b[0;34m=\u001b[0m \u001b[0mtf_session\u001b[0m\u001b[0;34m.\u001b[0m\u001b[0mTF_GetBuffer\u001b[0m\u001b[0;34m(\u001b[0m\u001b[0mrun_metadata_ptr\u001b[0m\u001b[0;34m)\u001b[0m\u001b[0;34m\u001b[0m\u001b[0;34m\u001b[0m\u001b[0m\n",
            "\u001b[0;31mKeyboardInterrupt\u001b[0m: "
          ]
        },
        {
          "output_type": "stream",
          "text": [
            "time: 4h 1min 11s\n"
          ],
          "name": "stdout"
        }
      ]
    },
    {
      "cell_type": "markdown",
      "metadata": {
        "id": "00A5lNTUWaPF",
        "colab_type": "text"
      },
      "source": [
        "### Visualize"
      ]
    },
    {
      "cell_type": "code",
      "metadata": {
        "id": "ULfHZEkMazVX",
        "colab_type": "code",
        "colab": {}
      },
      "source": [
        "plot_accuracy_loss(history)"
      ],
      "execution_count": 0,
      "outputs": []
    },
    {
      "cell_type": "markdown",
      "metadata": {
        "id": "-Js9baOEa-Bk",
        "colab_type": "text"
      },
      "source": [
        "# Machine Learning"
      ]
    },
    {
      "cell_type": "code",
      "metadata": {
        "id": "-_p38f81cWWy",
        "colab_type": "code",
        "colab": {}
      },
      "source": [
        "from sklearn.svm import LinearSVC\n",
        "\n",
        "model = LinearSVC()\n",
        "model.fit(train_texts, train_labels)\n",
        "y_pred = model.predict(val_texts)\n",
        "\n",
        "print(f\"Accuracy : {accuracy_score(val_labels, y_pred)}\")\n",
        "\n",
        "conf_mat = confusion_matrix(val_labels, y_pred)\n",
        "fig, ax = plt.subplots(figsize=(10,6))\n",
        "sns.heatmap(conf_mat, annot=True, fmt='3.0f', cmap=\"summer\", xticklabels=classes, yticklabels=classes)\n",
        "plt.title('Confusion_matrix', y=1.05, size=15)\n",
        "plt.ylabel('Actual')\n",
        "plt.xlabel('Predicted')\n",
        "plt.show()"
      ],
      "execution_count": 0,
      "outputs": []
    },
    {
      "cell_type": "code",
      "metadata": {
        "id": "ewJetRjRd0Us",
        "colab_type": "code",
        "colab": {}
      },
      "source": [
        ""
      ],
      "execution_count": 0,
      "outputs": []
    }
  ]
}